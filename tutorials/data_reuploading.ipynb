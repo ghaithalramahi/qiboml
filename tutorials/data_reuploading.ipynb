{
 "cells": [
  {
   "cell_type": "code",
   "execution_count": 78,
   "id": "d98894d1-7544-4f37-97a6-b668c326cb9e",
   "metadata": {},
   "outputs": [],
   "source": [
    "import torch\n",
    "import numpy as np\n",
    "import matplotlib.pyplot as plt\n",
    "\n",
    "import torch.optim as optim\n",
    "import torch.nn as nn\n",
    "\n",
    "from qibo import Circuit, gates, hamiltonians, set_backend, construct_backend\n",
    "\n",
    "from qiboml.models.encoding import DataReuploading\n",
    "from qiboml.models.decoding import Expectation\n",
    "from qiboml.interfaces.pytorch import QuantumModel\n",
    "from qiboml.operations.differentiation import PSR"
   ]
  },
  {
   "cell_type": "code",
   "execution_count": 81,
   "id": "756852e1-9b55-4aa2-8bfa-4ace2033b577",
   "metadata": {},
   "outputs": [
    {
     "name": "stderr",
     "output_type": "stream",
     "text": [
      "[Qibo 0.2.17|INFO|2025-02-25 16:58:46]: Using qiboml (pytorch) backend on cpu\n"
     ]
    },
    {
     "name": "stdout",
     "output_type": "stream",
     "text": [
      "0: ─RY─RZ─\n",
      "0: ─RX─RY─RZ─RX─RY─RZ─RX─RY─RZ─RX─RY─RZ─RX─RY─RZ─\n"
     ]
    }
   ],
   "source": [
    "set_backend(\"qiboml\", platform=\"pytorch\")\n",
    "\n",
    "nqubits = 1\n",
    "nlayers = 5\n",
    "\n",
    "# Encoding layer\n",
    "encoding_circ = DataReuploading(nqubits=nqubits, nlayers=nlayers, encoding_gate=gates.RX)\n",
    "\n",
    "# Decoding layer\n",
    "decoding_circ = Expectation(\n",
    "    nqubits=nqubits, \n",
    "    backend=construct_backend(\"numpy\")\n",
    ")\n",
    "\n",
    "# Trainable layer\n",
    "trainable_circ  = Circuit(nqubits)\n",
    "for q in range(nqubits):\n",
    "    trainable_circ.add(gates.RY(q=q, theta=np.random.randn()))\n",
    "    trainable_circ.add(gates.RZ(q=q, theta=np.random.randn()))\n",
    "if nqubits > 1:\n",
    "    [trainable_circ.add(gates.CNOT(q%nqubits, (q+1)%nqubits) for q in range(nqubits))]\n",
    "\n",
    "trainable_circ.draw()\n",
    "\n",
    "# The whole model\n",
    "model = QuantumModel(\n",
    "    encoding=encoding_circ,\n",
    "    circuit=trainable_circ,\n",
    "    decoding=decoding_circ,\n",
    "    differentiation=PSR(),\n",
    ")\n",
    "\n",
    "model.draw()"
   ]
  },
  {
   "cell_type": "code",
   "execution_count": 67,
   "id": "0125697b-014b-4ada-a9a4-e3ed8a32ec02",
   "metadata": {},
   "outputs": [],
   "source": [
    "# Prepare the training dataset (using f(x) = sin(x) as the target function)\n",
    "def f(x):\n",
    "    return 1 * torch.sin(x)  ** 2 - 0.3 * torch.cos(x) \n",
    "\n",
    "num_samples = 30\n",
    "x_train = torch.linspace(0, 2 * np.pi, num_samples, dtype=torch.float32).unsqueeze(1)\n",
    "y_train = f(x_train)\n",
    "\n",
    "y_train = 2 * ( (y_train - min(y_train)) / (max(y_train) - min(y_train)) - 0.5 )"
   ]
  },
  {
   "cell_type": "code",
   "execution_count": 69,
   "id": "fdfc2f01-13d5-42ab-b3ba-fe62025950bd",
   "metadata": {},
   "outputs": [],
   "source": [
    "optimizer = optim.Adam(model.parameters(), lr=0.1)\n",
    "criterion = nn.MSELoss()"
   ]
  },
  {
   "cell_type": "code",
   "execution_count": 70,
   "id": "07a15857-ff5e-409e-839d-dc91ae413932",
   "metadata": {},
   "outputs": [
    {
     "name": "stdout",
     "output_type": "stream",
     "text": [
      "Epoch 0: Loss = 0.6918910145759583\n",
      "Epoch 10: Loss = 0.15788255631923676\n",
      "Epoch 20: Loss = 0.061538711190223694\n",
      "Epoch 30: Loss = 0.03144393488764763\n",
      "Epoch 40: Loss = 0.01362784393131733\n",
      "Epoch 50: Loss = 0.007351264823228121\n",
      "Epoch 60: Loss = 0.005263514816761017\n",
      "Epoch 70: Loss = 0.0048614623956382275\n",
      "Epoch 80: Loss = 0.004612084943801165\n",
      "Epoch 90: Loss = 0.0044062393717467785\n"
     ]
    }
   ],
   "source": [
    "epochs = 100\n",
    "for epoch in range(epochs):\n",
    "    optimizer.zero_grad()\n",
    "    # Use torch.stack to get a tensor of shape (100, 1, 1)\n",
    "    y_pred = torch.stack([model(x) for x in x_train])\n",
    "    # Remove the extra singleton dimension so that y_pred has shape (100, 1)\n",
    "    y_pred = y_pred.squeeze(-1)\n",
    "    \n",
    "    loss = criterion(y_pred, y_train)\n",
    "    loss.backward()\n",
    "    optimizer.step()\n",
    "    \n",
    "    if epoch % 10 == 0:\n",
    "        print(f\"Epoch {epoch}: Loss = {loss.item()}\")"
   ]
  },
  {
   "cell_type": "code",
   "execution_count": 71,
   "id": "f18ee987-9898-45b3-a43e-6448b64ce6b7",
   "metadata": {},
   "outputs": [],
   "source": [
    "predictions = torch.stack([model(x) for x in x_train])\n",
    "y_pred = y_pred.squeeze(-1)"
   ]
  },
  {
   "cell_type": "code",
   "execution_count": 77,
   "id": "58a5a723-0448-426d-b639-bceaee5c1e02",
   "metadata": {},
   "outputs": [
    {
     "data": {
      "image/png": "[encoded data removed]",
      "text/plain": [
       "<Figure size 400x300 with 1 Axes>"
      ]
     },
     "metadata": {},
     "output_type": "display_data"
    }
   ],
   "source": [
    "plt.figure(figsize=(4, 4 * 6 / 8), dpi=100)\n",
    "plt.plot(\n",
    "    x_train, \n",
    "    y_pred.detach().numpy(), \n",
    "    marker=\".\",\n",
    "    markersize=10,\n",
    "    color=\"red\", \n",
    "    label=\"Predictions\",\n",
    "    alpha=0.7\n",
    ")\n",
    "plt.plot(\n",
    "    x_train, \n",
    "    y_train,\n",
    "    marker=\".\",\n",
    "    markersize=10,\n",
    "    color=\"blue\", \n",
    "    label=\"Targets\",\n",
    "    alpha=0.7\n",
    ")\n",
    "plt.xlabel(r\"x\")\n",
    "plt.ylabel(r\"f(x)\")\n",
    "plt.legend()\n",
    "plt.show()"
   ]
  },
  {
   "cell_type": "code",
   "execution_count": 101,
   "id": "4be80ea0-3ea8-45e1-af5d-33d67d9a4518",
   "metadata": {},
   "outputs": [
    {
     "name": "stdout",
     "output_type": "stream",
     "text": [
      "None\n"
     ]
    }
   ],
   "source": [
    "print(model.differentiation)"
   ]
  },
  {
   "cell_type": "code",
   "execution_count": null,
   "id": "648aac59-b708-4ff1-afae-77915dea3e2c",
   "metadata": {},
   "outputs": [],
   "source": []
  }
 ],
 "metadata": {
  "kernelspec": {
   "display_name": "Python 3 (ipykernel)",
   "language": "python",
   "name": "python3"
  },
  "language_info": {
   "codemirror_mode": {
    "name": "ipython",
    "version": 3
   },
   "file_extension": ".py",
   "mimetype": "text/x-python",
   "name": "python",
   "nbconvert_exporter": "python",
   "pygments_lexer": "ipython3",
   "version": "3.10.0"
  }
 },
 "nbformat": 4,
 "nbformat_minor": 5
}
