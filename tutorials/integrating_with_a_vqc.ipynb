{
 "cells": [
  {
   "cell_type": "markdown",
   "id": "00c83da3-5f3d-4e5e-8fca-4ccd884270f7",
   "metadata": {},
   "source": [
    "### Integration with a quantum circuit and automatic differentiation\n",
    "\n",
    "In this tutorial we exploit the automatic differentiation of our quantum model with respect to the input data to perform the calculation of integrals.\n",
    "\n",
    "---\n",
    "\n",
    "The core idea is inspired by [J. M. Cruz-Martinez et al.](https://iopscience.iop.org/article/10.1088/2058-9565/ad5866) and consists in training the derivative of a quantum circuit output w.r.t. input data to approximate the integrand function of a target integration problem. Once the derivative of the circuit is trained to approximate the integrand, then the original circuit can be used to compute any definite integral value by applying the fundamental theorem of the integral calculus.\n",
    "\n",
    "$$ I = \\int g(x) dx $$"
   ]
  },
  {
   "cell_type": "code",
   "execution_count": 1,
   "id": "89740914-e00a-4695-acce-bd132a086040",
   "metadata": {},
   "outputs": [
    {
     "name": "stderr",
     "output_type": "stream",
     "text": [
      "2025-04-11 17:40:56.898983: E external/local_xla/xla/stream_executor/cuda/cuda_fft.cc:467] Unable to register cuFFT factory: Attempting to register factory for plugin cuFFT when one has already been registered\n",
      "WARNING: All log messages before absl::InitializeLog() is called are written to STDERR\n",
      "E0000 00:00:1744386056.917974   38242 cuda_dnn.cc:8579] Unable to register cuDNN factory: Attempting to register factory for plugin cuDNN when one has already been registered\n",
      "E0000 00:00:1744386056.923671   38242 cuda_blas.cc:1407] Unable to register cuBLAS factory: Attempting to register factory for plugin cuBLAS when one has already been registered\n",
      "W0000 00:00:1744386056.937957   38242 computation_placer.cc:177] computation placer already registered. Please check linkage and avoid linking the same target more than once.\n",
      "W0000 00:00:1744386056.937976   38242 computation_placer.cc:177] computation placer already registered. Please check linkage and avoid linking the same target more than once.\n",
      "W0000 00:00:1744386056.937980   38242 computation_placer.cc:177] computation placer already registered. Please check linkage and avoid linking the same target more than once.\n",
      "W0000 00:00:1744386056.937981   38242 computation_placer.cc:177] computation placer already registered. Please check linkage and avoid linking the same target more than once.\n"
     ]
    }
   ],
   "source": [
    "import torch\n",
    "import numpy as np\n",
    "import matplotlib.pyplot as plt\n",
    "\n",
    "import torch.optim as optim\n",
    "import torch.nn as nn\n",
    "\n",
    "from qibo import Circuit, gates, hamiltonians, set_backend, construct_backend\n",
    "\n",
    "from qiboml.models.encoding import PhaseEncoding\n",
    "from qiboml.models.decoding import Expectation\n",
    "from qiboml.interfaces.pytorch import QuantumModel\n",
    "from qiboml.operations.differentiation import PSR, Jax"
   ]
  },
  {
   "cell_type": "markdown",
   "id": "03319c08-28db-4d67-b136-5dca02a34e29",
   "metadata": {},
   "source": [
    "We consider a dummy 1-dimensional target here."
   ]
  },
  {
   "cell_type": "code",
   "execution_count": 2,
   "id": "8612fabc-bdad-42b9-9c50-4bdffef672ff",
   "metadata": {},
   "outputs": [],
   "source": [
    "def integrand_function(x):\n",
    "    return 1/2*x + torch.sin(3 * x)\n",
    "\n",
    "def integral_function(x):\n",
    "    return x ** 2 / 4 - torch.cos(3 * x)/3 \n",
    "\n",
    "def definite_integral(xa, xb):\n",
    "    return integral_function(xb) - integral_function(xa)\n",
    "\n",
    "npoints = 30\n",
    "nqubits = 1\n",
    "nlayers = 5"
   ]
  },
  {
   "cell_type": "code",
   "execution_count": 3,
   "id": "1ae17596-5bd2-47a7-8fb9-1f68a42b471c",
   "metadata": {},
   "outputs": [],
   "source": [
    "x = torch.linspace(0, 2, npoints)\n",
    "g = integrand_function(x)\n",
    "I = integral_function(x)"
   ]
  },
  {
   "cell_type": "code",
   "execution_count": 4,
   "id": "26215f67-a4bd-44b9-a361-22cf69049998",
   "metadata": {},
   "outputs": [
    {
     "data": {
      "image/png": "[encoded data removed]",
      "text/plain": [
       "<Figure size 400x300 with 1 Axes>"
      ]
     },
     "metadata": {},
     "output_type": "display_data"
    }
   ],
   "source": [
    "plt.figure(figsize=(4, 3))\n",
    "plt.plot(x, g, label=\"Integrand\", c=\"red\", marker=\".\", markersize=10)\n",
    "plt.plot(x, I, label=\"Primitive\", c=\"blue\", marker=\".\", markersize=10)\n",
    "plt.legend()\n",
    "plt.show()"
   ]
  },
  {
   "cell_type": "markdown",
   "id": "0be0c379-bc02-4798-a5cc-f892b01c00b3",
   "metadata": {},
   "source": [
    "Then we use a data reuploading strategy to upload the data into a quantum circuit, alternating data-encoding gates with trainable blocks of gates in our circuit. "
   ]
  },
  {
   "cell_type": "code",
   "execution_count": 5,
   "id": "33deb41e-0cfb-4058-9aeb-06e2d0c663f2",
   "metadata": {},
   "outputs": [
    {
     "name": "stderr",
     "output_type": "stream",
     "text": [
      "[Qibo 0.2.17|INFO|2025-04-11 17:41:02]: Using qiboml (pytorch) backend on cpu\n"
     ]
    },
    {
     "data": {
      "image/png": "[encoded data removed]",
      "text/plain": [
       "<Figure size 900x60 with 1 Axes>"
      ]
     },
     "metadata": {},
     "output_type": "display_data"
    }
   ],
   "source": [
    "x_train = torch.linspace(0., 2., npoints, dtype=torch.float32).unsqueeze(1)\n",
    "x_train = x_train.clone().detach().requires_grad_(True)\n",
    "y_train = integrand_function(x_train)\n",
    "\n",
    "set_backend(\"qiboml\", platform=\"pytorch\")\n",
    "\n",
    "\n",
    "# Encoding layer\n",
    "encoding_circ = PhaseEncoding(\n",
    "    nqubits=nqubits, \n",
    "    encoding_gate=gates.RX\n",
    ")\n",
    "\n",
    "# Trainable layer\n",
    "def trainable_circuit(entanglement=True):\n",
    "    trainable_circ  = Circuit(nqubits)\n",
    "    for q in range(nqubits):\n",
    "        trainable_circ.add(gates.RY(q=q, theta=np.random.randn()))\n",
    "        trainable_circ.add(gates.RZ(q=q, theta=np.random.randn()))\n",
    "    if nqubits > 1 and entanglement:\n",
    "        [trainable_circ.add(gates.CNOT(q%nqubits, (q+1)%nqubits) for q in range(nqubits))]\n",
    "    return trainable_circ\n",
    "\n",
    "# Decoding layer\n",
    "decoding_circ = Expectation(\n",
    "    nqubits=nqubits, \n",
    "    backend=construct_backend(\"qiboml\", platform=\"pytorch\")\n",
    "    # backend=construct_backend(\"numpy\")\n",
    ")\n",
    "\n",
    "circuit_structure = []\n",
    "for _ in range(nlayers):\n",
    "    circuit_structure.extend(\n",
    "        [encoding_circ, trainable_circuit(entanglement=True)]\n",
    "    )\n",
    "\n",
    "# The whole model\n",
    "model = QuantumModel(\n",
    "    circuit_structure=circuit_structure,\n",
    "    decoding=decoding_circ,\n",
    "    # differentiation=Jax()\n",
    ")\n",
    "\n",
    "model.draw()\n",
    "\n",
    "optimizer = optim.Adam(model.parameters(), lr=0.1, betas=(0.9, 0.99))\n",
    "criterion = nn.MSELoss()\n",
    "\n",
    "def prediction(model, x_i):\n",
    "    y_pred = model(x_i)\n",
    "    dydx = torch.autograd.grad(\n",
    "        outputs=y_pred,\n",
    "        inputs=x_i,\n",
    "        grad_outputs=torch.ones_like(y_pred),\n",
    "        create_graph=True,\n",
    "        retain_graph=True,\n",
    "        allow_unused=True,\n",
    "    )[0]\n",
    "    return dydx\n",
    "\n",
    "def loss_function(model, x, target):\n",
    "    losses = []\n",
    "    # Process each sample separately.\n",
    "    for x_i, target_i in zip(x, target):\n",
    "        # x_i and target_i are single samples (with proper shape)\n",
    "        dydx = prediction(model, x_i)\n",
    "        losses.append(criterion(dydx, target_i.unsqueeze(0)))\n",
    "    return torch.stack(losses).mean()\n"
   ]
  },
  {
   "cell_type": "markdown",
   "id": "661d434e-c7ac-4bba-b19c-ddb8540f6f14",
   "metadata": {},
   "source": [
    "We have a look to a first random guess of our model."
   ]
  },
  {
   "cell_type": "code",
   "execution_count": 6,
   "id": "dbdc6ec7-4f3b-4d7b-a2a9-a113421ba18e",
   "metadata": {},
   "outputs": [
    {
     "data": {
      "image/png": "[encoded data removed]",
      "text/plain": [
       "<Figure size 400x300 with 1 Axes>"
      ]
     },
     "metadata": {},
     "output_type": "display_data"
    }
   ],
   "source": [
    "y_pred = torch.stack([model(x) for x in x_train])\n",
    "y_pred = y_pred.squeeze(-1)\n",
    "\n",
    "plt.figure(figsize=(4, 4 * 6 / 8), dpi=100)\n",
    "plt.plot(\n",
    "    x_train.detach().numpy(), \n",
    "    y_pred.detach().numpy(), \n",
    "    marker=\".\",\n",
    "    markersize=10,\n",
    "    color=\"red\", \n",
    "    label=\"Predictions\",\n",
    "    alpha=0.7\n",
    ")\n",
    "plt.plot(\n",
    "    x, \n",
    "    I,\n",
    "    marker=\".\",\n",
    "    markersize=10,\n",
    "    color=\"blue\", \n",
    "    label=\"Targets\",\n",
    "    alpha=0.7\n",
    ")\n",
    "plt.legend()\n",
    "plt.show()"
   ]
  },
  {
   "cell_type": "markdown",
   "id": "ea0c7b5e-dd88-4f3c-a0e9-74ad009dba96",
   "metadata": {},
   "source": [
    "### Model training"
   ]
  },
  {
   "cell_type": "code",
   "execution_count": 7,
   "id": "b4d590a5-260c-4426-9098-8f35d3919f0b",
   "metadata": {},
   "outputs": [
    {
     "name": "stderr",
     "output_type": "stream",
     "text": [
      "/home/matteo/dev/lib/python3.11/site-packages/torch/nn/modules/loss.py:610: UserWarning: Using a target size (torch.Size([1, 1])) that is different to the input size (torch.Size([1])). This will likely lead to incorrect results due to broadcasting. Please ensure they have the same size.\n",
      "  return F.mse_loss(input, target, reduction=self.reduction)\n"
     ]
    },
    {
     "name": "stdout",
     "output_type": "stream",
     "text": [
      "Epoch 0: Loss = 2.1013600826263428\n",
      "Epoch 5: Loss = 0.5011771321296692\n",
      "Epoch 10: Loss = 0.12502336502075195\n",
      "Epoch 15: Loss = 0.040936172008514404\n",
      "Epoch 20: Loss = 0.08370252698659897\n",
      "Epoch 25: Loss = 0.05856318771839142\n",
      "Epoch 30: Loss = 0.03186345100402832\n",
      "Epoch 35: Loss = 0.033597372472286224\n",
      "Epoch 40: Loss = 0.019424816593527794\n",
      "Epoch 45: Loss = 0.02385425753891468\n",
      "Epoch 50: Loss = 0.017825031653046608\n",
      "Epoch 55: Loss = 0.016136223450303078\n",
      "Epoch 60: Loss = 0.01544010080397129\n",
      "Epoch 65: Loss = 0.014807898551225662\n",
      "Epoch 70: Loss = 0.014280816540122032\n",
      "Epoch 75: Loss = 0.013451507315039635\n",
      "Epoch 80: Loss = 0.01315404288470745\n",
      "Epoch 85: Loss = 0.012599840760231018\n",
      "Epoch 90: Loss = 0.012149742804467678\n",
      "Epoch 95: Loss = 0.011670238338410854\n",
      "Epoch 100: Loss = 0.011231168173253536\n",
      "Epoch 105: Loss = 0.010780616663396358\n",
      "Epoch 110: Loss = 0.01035469863563776\n",
      "Epoch 115: Loss = 0.00993108656257391\n",
      "Epoch 120: Loss = 0.009514187462627888\n",
      "Epoch 125: Loss = 0.009111065417528152\n",
      "Epoch 130: Loss = 0.008712785318493843\n",
      "Epoch 135: Loss = 0.008325117640197277\n",
      "Epoch 140: Loss = 0.007947997190058231\n",
      "Epoch 145: Loss = 0.007580645848065615\n",
      "Epoch 150: Loss = 0.007224525325000286\n",
      "Epoch 155: Loss = 0.006879569496959448\n",
      "Epoch 160: Loss = 0.006545854266732931\n",
      "Epoch 165: Loss = 0.006224246229976416\n",
      "Epoch 170: Loss = 0.005915312096476555\n",
      "Epoch 175: Loss = 0.005619560368359089\n",
      "Epoch 180: Loss = 0.005337427370250225\n",
      "Epoch 185: Loss = 0.005069349426776171\n",
      "Epoch 190: Loss = 0.004815777763724327\n",
      "Epoch 195: Loss = 0.0045769368298351765\n"
     ]
    }
   ],
   "source": [
    "for epoch in range(200):\n",
    "    optimizer.zero_grad()\n",
    "    \n",
    "    # Compute loss using the wrapped loss function\n",
    "    loss = loss_function(model, x_train, y_train)\n",
    "    \n",
    "    loss.backward(retain_graph=True)\n",
    "    optimizer.step()\n",
    "\n",
    "    if epoch % 5 == 0:\n",
    "        print(f\"Epoch {epoch}: Loss = {loss.item()}\")"
   ]
  },
  {
   "cell_type": "markdown",
   "id": "6100f284-0883-40b5-9e38-ed8fff2cdfba",
   "metadata": {},
   "source": [
    "### Predictions"
   ]
  },
  {
   "cell_type": "code",
   "execution_count": 8,
   "id": "65a4ece7-5834-45c0-b470-8c5fe158dd03",
   "metadata": {},
   "outputs": [
    {
     "data": {
      "image/png": "[encoded data removed]",
      "text/plain": [
       "<Figure size 400x300 with 1 Axes>"
      ]
     },
     "metadata": {},
     "output_type": "display_data"
    }
   ],
   "source": [
    "y_pred = torch.stack([model(x) for x in x_train])\n",
    "y_pred = y_pred.squeeze(-1)\n",
    "\n",
    "plt.figure(figsize=(4, 4 * 6 / 8), dpi=100)\n",
    "plt.plot(\n",
    "    x_train.detach().numpy(), \n",
    "    y_pred.detach().numpy(), \n",
    "    marker=\".\",\n",
    "    \n",
    "    markersize=10,\n",
    "    color=\"red\", \n",
    "    label=\"Predictions\",\n",
    "    alpha=0.7\n",
    ")\n",
    "plt.plot(\n",
    "    x, \n",
    "    I,\n",
    "    marker=\".\",\n",
    "    markersize=10,\n",
    "    color=\"blue\", \n",
    "    label=\"Targets\",\n",
    "    alpha=0.7\n",
    ")\n",
    "plt.legend()\n",
    "plt.show()"
   ]
  },
  {
   "cell_type": "markdown",
   "id": "acf8ae29-7beb-4b09-ac0b-ac3f01cf2de3",
   "metadata": {},
   "source": [
    "As expected, the solution is good but for a constant value. This is not a problem, because we need to use the model to compute definite integral values as follows:"
   ]
  },
  {
   "cell_type": "code",
   "execution_count": 9,
   "id": "f6af6b5a-7f72-43cb-9f55-82dea9b8061b",
   "metadata": {},
   "outputs": [
    {
     "name": "stdout",
     "output_type": "stream",
     "text": [
      "Def integral exact: tensor(0.9921)\n",
      "Approx integral: 0.9898888889322334\n"
     ]
    }
   ],
   "source": [
    "x_a = torch.tensor(0.01)\n",
    "x_b = torch.tensor(1.2)\n",
    "\n",
    "print(\n",
    "    \"Def integral exact:\", \n",
    "    definite_integral(x_a, x_b)\n",
    ")\n",
    "print(\n",
    "    \"Approx integral:\", \n",
    "     (model(x_b) - model(x_a)).squeeze().detach().numpy()\n",
    ")"
   ]
  },
  {
   "cell_type": "code",
   "execution_count": null,
   "id": "bb71cb48-16dd-4488-9674-b20955b91d7f",
   "metadata": {},
   "outputs": [],
   "source": []
  }
 ],
 "metadata": {
  "kernelspec": {
   "display_name": "Python 3 (ipykernel)",
   "language": "python",
   "name": "python3"
  },
  "language_info": {
   "codemirror_mode": {
    "name": "ipython",
    "version": 3
   },
   "file_extension": ".py",
   "mimetype": "text/x-python",
   "name": "python",
   "nbconvert_exporter": "python",
   "pygments_lexer": "ipython3",
   "version": "3.11.11"
  }
 },
 "nbformat": 4,
 "nbformat_minor": 5
}
