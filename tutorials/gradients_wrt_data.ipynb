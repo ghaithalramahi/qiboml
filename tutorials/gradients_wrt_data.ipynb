{
 "cells": [
  {
   "cell_type": "code",
   "execution_count": 5,
   "id": "824a1ab7-a98f-4e03-988d-86a146c5c431",
   "metadata": {},
   "outputs": [],
   "source": [
    "import torch\n",
    "import numpy as np\n",
    "import matplotlib.pyplot as plt\n",
    "\n",
    "import torch.optim as optim\n",
    "import torch.nn as nn\n",
    "\n",
    "from qibo import Circuit, gates, hamiltonians, set_backend, construct_backend\n",
    "\n",
    "from qiboml.models.encoding import PhaseEncoding\n",
    "from qiboml.models.decoding import Expectation\n",
    "from qiboml.interfaces.pytorch import QuantumModel\n",
    "from qiboml.operations.differentiation import PSR, Jax"
   ]
  },
  {
   "cell_type": "markdown",
   "id": "c6e2f235-6ada-4148-8c95-8d8341059a2c",
   "metadata": {},
   "source": [
    "### Construct model"
   ]
  },
  {
   "cell_type": "code",
   "execution_count": 11,
   "id": "23026c63-d67f-45c7-9f11-bd6747f7060a",
   "metadata": {},
   "outputs": [
    {
     "name": "stderr",
     "output_type": "stream",
     "text": [
      "[Qibo 0.2.17|INFO|2025-03-27 10:52:51]: Using qiboml (pytorch) backend on cpu\n"
     ]
    }
   ],
   "source": [
    "set_backend(\"qiboml\", platform=\"pytorch\")\n",
    "\n",
    "nqubits = 2\n",
    "nlayers = 3\n",
    "\n",
    "# Encoding layer\n",
    "encoding_circ = PhaseEncoding(\n",
    "    nqubits=nqubits, \n",
    "    encoding_gate=gates.RX\n",
    ")\n",
    "\n",
    "# Trainable layer\n",
    "def trainable_circuit(entanglement=True):\n",
    "    trainable_circ  = Circuit(nqubits)\n",
    "    for q in range(nqubits):\n",
    "        trainable_circ.add(gates.RY(q=q, theta=np.random.randn()))\n",
    "        trainable_circ.add(gates.RZ(q=q, theta=np.random.randn()))\n",
    "    if nqubits > 1 and entanglement:\n",
    "        [trainable_circ.add(gates.CNOT(q%nqubits, (q+1)%nqubits) for q in range(nqubits))]\n",
    "    return trainable_circ"
   ]
  },
  {
   "cell_type": "markdown",
   "id": "84cab259-ba84-471b-b0f4-ba16c3e7c659",
   "metadata": {},
   "source": [
    "### Test function"
   ]
  },
  {
   "cell_type": "code",
   "execution_count": 12,
   "id": "7f256c12-56ea-4e49-8563-020a526ed6c5",
   "metadata": {},
   "outputs": [],
   "source": [
    "def compute_gradient_wrt_x(\n",
    "    execution_backend,\n",
    "    differentiation_rule,\n",
    "    trainable_circ_list,\n",
    "):\n",
    "    \"\"\"Mount the model, execute it and compute gradient w.r.t. input data.\"\"\"\n",
    "    # Decoding layer\n",
    "    decoding_circ = Expectation(\n",
    "        nqubits=nqubits, \n",
    "        backend=execution_backend\n",
    "    )\n",
    "\n",
    "    structure = []\n",
    "    for i, circ in enumerate(trainable_circ_list):\n",
    "        structure.extend([\n",
    "            encoding_circ, circ\n",
    "        ])\n",
    "\n",
    "    # The whole model\n",
    "    model = QuantumModel(\n",
    "        circuit_structure=structure,\n",
    "        decoding=decoding_circ,\n",
    "        differentiation=differentiation_rule,\n",
    "    )\n",
    "\n",
    "    data = torch.tensor([0.3, 0.9], requires_grad=True)\n",
    "    \n",
    "    output = model(data)\n",
    "    loss = output\n",
    "    loss.backward()\n",
    "\n",
    "    print(f\"Grad via {differentiation_rule} on {execution_backend} backend:\", data.grad)"
   ]
  },
  {
   "cell_type": "code",
   "execution_count": 14,
   "id": "9cbcc042-73b3-4604-a219-7eeffd9a3ec8",
   "metadata": {},
   "outputs": [],
   "source": [
    "# Construct a list of trainable layers so that the params are the same in all tests\n",
    "trainable_circ_list = []\n",
    "for _ in range(nlayers):\n",
    "    trainable_circ_list.append(trainable_circuit(entanglement=True))"
   ]
  },
  {
   "cell_type": "markdown",
   "id": "dba00cdd-a4d3-4f58-937a-d1e540322973",
   "metadata": {},
   "source": [
    "### Execute on different backends and with different diffrules"
   ]
  },
  {
   "cell_type": "code",
   "execution_count": 15,
   "id": "4de75f1e-623a-48ba-b637-301b79935506",
   "metadata": {},
   "outputs": [
    {
     "name": "stdout",
     "output_type": "stream",
     "text": [
      "Grad via PSR() on numpy backend: tensor([0.6515, 0.3940])\n",
      "Grad via None on qiboml (pytorch) backend: tensor([0.6515, 0.3940])\n",
      "Grad via Jax() on numpy backend: tensor([0.6515, 0.3940])\n"
     ]
    }
   ],
   "source": [
    "compute_gradient_wrt_x(\n",
    "    execution_backend=construct_backend(\"numpy\"),\n",
    "    differentiation_rule=PSR(),\n",
    "    trainable_circ_list=trainable_circ_list,\n",
    ")\n",
    "compute_gradient_wrt_x(\n",
    "    execution_backend=construct_backend(\"qiboml\", platform=\"pytorch\"),\n",
    "    differentiation_rule=None,\n",
    "    trainable_circ_list=trainable_circ_list,\n",
    ")\n",
    "compute_gradient_wrt_x(\n",
    "    execution_backend=construct_backend(\"numpy\"),\n",
    "    differentiation_rule=Jax(),\n",
    "    trainable_circ_list=trainable_circ_list,\n",
    ")"
   ]
  },
  {
   "cell_type": "code",
   "execution_count": null,
   "id": "906e7a48-446b-4431-b748-4cf5c127be46",
   "metadata": {},
   "outputs": [],
   "source": []
  }
 ],
 "metadata": {
  "kernelspec": {
   "display_name": "Python 3 (ipykernel)",
   "language": "python",
   "name": "python3"
  },
  "language_info": {
   "codemirror_mode": {
    "name": "ipython",
    "version": 3
   },
   "file_extension": ".py",
   "mimetype": "text/x-python",
   "name": "python",
   "nbconvert_exporter": "python",
   "pygments_lexer": "ipython3",
   "version": "3.10.0"
  }
 },
 "nbformat": 4,
 "nbformat_minor": 5
}
