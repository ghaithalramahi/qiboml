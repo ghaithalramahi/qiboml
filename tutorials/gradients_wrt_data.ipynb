{
 "cells": [
  {
   "cell_type": "code",
   "execution_count": 1,
   "id": "824a1ab7-a98f-4e03-988d-86a146c5c431",
   "metadata": {},
   "outputs": [
    {
     "name": "stderr",
     "output_type": "stream",
     "text": [
      "2025-03-27 10:34:36.583550: E external/local_xla/xla/stream_executor/cuda/cuda_fft.cc:477] Unable to register cuFFT factory: Attempting to register factory for plugin cuFFT when one has already been registered\n",
      "WARNING: All log messages before absl::InitializeLog() is called are written to STDERR\n",
      "E0000 00:00:1743068076.602527  150751 cuda_dnn.cc:8310] Unable to register cuDNN factory: Attempting to register factory for plugin cuDNN when one has already been registered\n",
      "E0000 00:00:1743068076.608310  150751 cuda_blas.cc:1418] Unable to register cuBLAS factory: Attempting to register factory for plugin cuBLAS when one has already been registered\n"
     ]
    }
   ],
   "source": [
    "import torch\n",
    "import numpy as np\n",
    "import matplotlib.pyplot as plt\n",
    "\n",
    "import torch.optim as optim\n",
    "import torch.nn as nn\n",
    "\n",
    "from qibo import Circuit, gates, hamiltonians, set_backend, construct_backend\n",
    "\n",
    "from qiboml.models.encoding import PhaseEncoding\n",
    "from qiboml.models.decoding import Expectation\n",
    "from qiboml.interfaces.pytorch import QuantumModel\n",
    "from qiboml.operations.differentiation import PSR, Jax"
   ]
  },
  {
   "cell_type": "code",
   "execution_count": 2,
   "id": "23026c63-d67f-45c7-9f11-bd6747f7060a",
   "metadata": {},
   "outputs": [
    {
     "name": "stderr",
     "output_type": "stream",
     "text": [
      "[Qibo 0.2.17|INFO|2025-03-27 10:34:45]: Using qiboml (pytorch) backend on cpu\n"
     ]
    }
   ],
   "source": [
    "set_backend(\"qiboml\", platform=\"pytorch\")\n",
    "\n",
    "nqubits = 1\n",
    "nlayers = 3\n",
    "\n",
    "# Encoding layer\n",
    "encoding_circ = PhaseEncoding(\n",
    "    nqubits=nqubits, \n",
    "    encoding_gate=gates.RX\n",
    ")\n",
    "\n",
    "# Trainable layer\n",
    "def trainable_circuit(entanglement=True):\n",
    "    trainable_circ  = Circuit(nqubits)\n",
    "    for q in range(nqubits):\n",
    "        trainable_circ.add(gates.RY(q=q, theta=np.random.randn()))\n",
    "        trainable_circ.add(gates.RZ(q=q, theta=np.random.randn()))\n",
    "    if nqubits > 1 and entanglement:\n",
    "        [trainable_circ.add(gates.CNOT(q%nqubits, (q+1)%nqubits) for q in range(nqubits))]\n",
    "    return trainable_circ"
   ]
  },
  {
   "cell_type": "code",
   "execution_count": 3,
   "id": "7f256c12-56ea-4e49-8563-020a526ed6c5",
   "metadata": {},
   "outputs": [],
   "source": [
    "def compute_gradient_wrt_x(\n",
    "    execution_backend,\n",
    "    differentiation_rule,\n",
    "    trainable_circ_list,\n",
    "):\n",
    "    # Decoding layer\n",
    "    decoding_circ = Expectation(\n",
    "        nqubits=nqubits, \n",
    "        backend=execution_backend\n",
    "    )\n",
    "\n",
    "    structure = []\n",
    "    for i, circ in enumerate(trainable_circ_list):\n",
    "        structure.extend([\n",
    "            encoding_circ, circ\n",
    "        ])\n",
    "\n",
    "    # The whole model\n",
    "    model = QuantumModel(\n",
    "        circuit_structure=structure,\n",
    "        decoding=decoding_circ,\n",
    "        differentiation=differentiation_rule,\n",
    "    )\n",
    "\n",
    "    data = torch.tensor([0.3], requires_grad=True)\n",
    "    \n",
    "    output = model(data)\n",
    "    loss = output\n",
    "    loss.backward()\n",
    "\n",
    "    print(f\"Grad via {differentiation_rule} on {execution_backend} backend:\", data.grad)"
   ]
  },
  {
   "cell_type": "code",
   "execution_count": 4,
   "id": "9cbcc042-73b3-4604-a219-7eeffd9a3ec8",
   "metadata": {},
   "outputs": [],
   "source": [
    "trainable_circ_list = []\n",
    "for _ in range(nlayers):\n",
    "    trainable_circ_list.append(trainable_circuit(entanglement=True))"
   ]
  },
  {
   "cell_type": "code",
   "execution_count": 5,
   "id": "4de75f1e-623a-48ba-b637-301b79935506",
   "metadata": {},
   "outputs": [
    {
     "name": "stdout",
     "output_type": "stream",
     "text": [
      "[array([[2.02280271]]), array([[-0.76928721]]), array([[0.55199038]]), array([[-0.13304896]]), array([[0.48786879]]), array([[-0.73194227]]), array([[-9.23266963e-10]])]\n",
      "Grad via PSR() on numpy backend: tensor([2.0228])\n",
      "Grad via None on qiboml (pytorch) backend: tensor([2.0228])\n",
      "Grad via Jax() on numpy backend: tensor([2.0228])\n"
     ]
    }
   ],
   "source": [
    "compute_gradient_wrt_x(\n",
    "    execution_backend=construct_backend(\"numpy\"),\n",
    "    differentiation_rule=PSR(),\n",
    "    trainable_circ_list=trainable_circ_list,\n",
    ")\n",
    "compute_gradient_wrt_x(\n",
    "    execution_backend=construct_backend(\"qiboml\", platform=\"pytorch\"),\n",
    "    differentiation_rule=None,\n",
    "    trainable_circ_list=trainable_circ_list,\n",
    ")\n",
    "compute_gradient_wrt_x(\n",
    "    execution_backend=construct_backend(\"numpy\"),\n",
    "    differentiation_rule=Jax(),\n",
    "    trainable_circ_list=trainable_circ_list,\n",
    ")"
   ]
  },
  {
   "cell_type": "code",
   "execution_count": null,
   "id": "906e7a48-446b-4431-b748-4cf5c127be46",
   "metadata": {},
   "outputs": [],
   "source": []
  }
 ],
 "metadata": {
  "kernelspec": {
   "display_name": "Python 3 (ipykernel)",
   "language": "python",
   "name": "python3"
  },
  "language_info": {
   "codemirror_mode": {
    "name": "ipython",
    "version": 3
   },
   "file_extension": ".py",
   "mimetype": "text/x-python",
   "name": "python",
   "nbconvert_exporter": "python",
   "pygments_lexer": "ipython3",
   "version": "3.10.0"
  }
 },
 "nbformat": 4,
 "nbformat_minor": 5
}
