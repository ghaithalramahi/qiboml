{
 "cells": [
  {
   "cell_type": "code",
   "execution_count": 1,
   "id": "4c3d6df3-99a0-46f7-a054-77cd907dd6df",
   "metadata": {},
   "outputs": [
    {
     "name": "stdout",
     "output_type": "stream",
     "text": [
      "5\n"
     ]
    },
    {
     "data": {
      "image/jpeg": "[encoded data removed]",
      "image/png": "[encoded data removed]",
      "text/plain": [
       "<PIL.Image.Image image mode=L size=28x28>"
      ]
     },
     "metadata": {},
     "output_type": "display_data"
    },
    {
     "name": "stdout",
     "output_type": "stream",
     "text": [
      "tensor(0)\n"
     ]
    },
    {
     "data": {
      "image/jpeg": "[encoded data removed]",
      "image/png": "[encoded data removed]",
      "text/plain": [
       "<PIL.Image.Image image mode=L size=28x28>"
      ]
     },
     "metadata": {},
     "output_type": "display_data"
    }
   ],
   "source": [
    "from torchvision.datasets import MNIST\n",
    "\n",
    "dataset = MNIST(\"./\", download=True)\n",
    "print(dataset[0][1])\n",
    "display(dataset[0][0])\n",
    "\n",
    "zeros_and_ones = [i for i, d in enumerate(dataset) if d[1] in (0,1)]\n",
    "data = dataset.data[zeros_and_ones]\n",
    "targets = dataset.targets[zeros_and_ones]\n",
    "images = [dataset[i][0] for i in zeros_and_ones]\n",
    "print(targets[0])\n",
    "display(images[0])"
   ]
  },
  {
   "cell_type": "code",
   "execution_count": 2,
   "id": "f7143a5f-2066-4cbf-a7a7-375a77d457d3",
   "metadata": {},
   "outputs": [],
   "source": [
    "import torch\n",
    "import torch.nn as nn\n",
    "import torch.nn.functional as F\n",
    "\n",
    "class ImageEncoder(nn.Module):\n",
    "    def __init__(self):\n",
    "        super().__init__()\n",
    "        self.conv1 = nn.Conv2d(1, 6, 5)\n",
    "        self.pool = nn.MaxPool2d(2, 2)\n",
    "        self.conv2 = nn.Conv2d(6, 16, 5)\n",
    "        self.fc1 = nn.Linear(16 * 16, 120)\n",
    "        self.fc2 = nn.Linear(120, 84)\n",
    "        self.fc3 = nn.Linear(84, 1)\n",
    "\n",
    "    def forward(self, x):\n",
    "        x = self.pool(F.relu(self.conv1(x)))\n",
    "        x = self.pool(F.relu(self.conv2(x)))\n",
    "        x = torch.flatten(x) \n",
    "        x = F.relu(self.fc1(x))\n",
    "        x = F.relu(self.fc2(x))\n",
    "        x = self.fc3(x)\n",
    "        return x\n",
    "\n",
    "\n",
    "img_encoder = ImageEncoder()\n"
   ]
  },
  {
   "cell_type": "code",
   "execution_count": 3,
   "id": "ec1a8c49-a9f6-4c59-b802-a3b6387c6e7d",
   "metadata": {},
   "outputs": [
    {
     "name": "stderr",
     "output_type": "stream",
     "text": [
      "2024-11-07 17:48:50.351865: E external/local_xla/xla/stream_executor/cuda/cuda_fft.cc:485] Unable to register cuFFT factory: Attempting to register factory for plugin cuFFT when one has already been registered\n",
      "2024-11-07 17:48:50.364328: E external/local_xla/xla/stream_executor/cuda/cuda_dnn.cc:8454] Unable to register cuDNN factory: Attempting to register factory for plugin cuDNN when one has already been registered\n",
      "2024-11-07 17:48:50.368086: E external/local_xla/xla/stream_executor/cuda/cuda_blas.cc:1452] Unable to register cuBLAS factory: Attempting to register factory for plugin cuBLAS when one has already been registered\n",
      "2024-11-07 17:48:50.378328: I tensorflow/core/platform/cpu_feature_guard.cc:210] This TensorFlow binary is optimized to use available CPU instructions in performance-critical operations.\n",
      "To enable the following instructions: AVX2 FMA, in other operations, rebuild TensorFlow with the appropriate compiler flags.\n",
      "2024-11-07 17:48:51.075570: W tensorflow/compiler/tf2tensorrt/utils/py_utils.cc:38] TF-TRT Warning: Could not find TensorRT\n",
      "[Qibo 0.2.13|INFO|2024-11-07 17:48:51]: Using pytorch backend on cuda:0\n"
     ]
    },
    {
     "name": "stdout",
     "output_type": "stream",
     "text": [
      "q0: ─RY─RZ─o─RY─RZ─o─\n",
      "q1: ─RY─RZ─X─RY─RZ─X─\n"
     ]
    }
   ],
   "source": [
    "import numpy as np\n",
    "from qibo import set_backend, Circuit, gates\n",
    "from qibo.symbols import Z\n",
    "from qibo.hamiltonians import SymbolicHamiltonian\n",
    "\n",
    "from qiboml.models.pytorch import QuantumModel\n",
    "from qiboml.models.encoding import PhaseEncoding\n",
    "from qiboml.models.decoding import Expectation\n",
    "\n",
    "set_backend(\"pytorch\")\n",
    "\n",
    "circuit = Circuit(2)\n",
    "for _ in range(2):\n",
    "    for q in (0,1):\n",
    "        circuit.add(gates.RY(q, theta=0.1 * np.pi))\n",
    "        circuit.add(gates.RZ(q, theta=-0.4 * np.pi))\n",
    "    circuit.add(gates.CNOT(0,1))\n",
    "circuit.draw()\n",
    "\n",
    "observable = SymbolicHamiltonian((1 - Z(0)) / 2, nqubits=2)\n",
    "\n",
    "q_model = QuantumModel(\n",
    "    PhaseEncoding(nqubits=2),\n",
    "    circuit,\n",
    "    Expectation(nqubits=2, observable=observable)\n",
    ")"
   ]
  },
  {
   "cell_type": "code",
   "execution_count": 8,
   "id": "b547bb43-bd97-40ee-b0f5-b765fffba02f",
   "metadata": {},
   "outputs": [
    {
     "data": {
      "image/jpeg": "[encoded data removed]",
      "image/png": "[encoded data removed]",
      "text/plain": [
       "<PIL.Image.Image image mode=L size=28x28>"
      ]
     },
     "metadata": {},
     "output_type": "display_data"
    },
    {
     "name": "stdout",
     "output_type": "stream",
     "text": [
      "tensor([1.], grad_fn=<SigmoidBackward0>)\n"
     ]
    },
    {
     "data": {
      "image/png": "[encoded data removed]",
      "text/plain": [
       "<Figure size 640x480 with 1 Axes>"
      ]
     },
     "metadata": {},
     "output_type": "display_data"
    }
   ],
   "source": [
    "import matplotlib.pyplot as plt\n",
    "from torch.optim import Adam\n",
    "\n",
    "optimizer = Adam(img_encoder.parameters())\n",
    "losses = []\n",
    "for x, y in zip(data[:100], targets[:100]):\n",
    "    optimizer.zero_grad()\n",
    "    out = img_encoder(x.float().unsqueeze(0))\n",
    "    loss = F.binary_cross_entropy_with_logits(out, y.float().view(1,))\n",
    "    loss.backward()\n",
    "    optimizer.step()\n",
    "    losses.append(loss.item())\n",
    "\n",
    "plt.plot(range(len(losses)), losses)\n",
    "display(images[-1])\n",
    "print(F.sigmoid(img_encoder(data[-1].float().unsqueeze(0))))"
   ]
  },
  {
   "cell_type": "code",
   "execution_count": null,
   "id": "0f1c1d2a-0426-4e43-8ade-8f00f4d0b9bf",
   "metadata": {},
   "outputs": [],
   "source": []
  }
 ],
 "metadata": {
  "kernelspec": {
   "display_name": "Python 3 (ipykernel)",
   "language": "python",
   "name": "python3"
  },
  "language_info": {
   "codemirror_mode": {
    "name": "ipython",
    "version": 3
   },
   "file_extension": ".py",
   "mimetype": "text/x-python",
   "name": "python",
   "nbconvert_exporter": "python",
   "pygments_lexer": "ipython3",
   "version": "3.12.3"
  }
 },
 "nbformat": 4,
 "nbformat_minor": 5
}
