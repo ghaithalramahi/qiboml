{
 "cells": [
  {
   "cell_type": "markdown",
   "id": "2a63ffa0-4324-4e71-a319-92b5c80bb8e5",
   "metadata": {},
   "source": [
    "# Binary Classification on the MNIST dataset\n",
    "\n",
    "As an example to showcase the use of the `qiboml` Pytorch interface, we demonstrate in the following how to run a simple binary classification problem on the MNIST data. We are going to combine a classical image encoder with a quantum classification head to learn to ditinguish zeros and ones.\n",
    "\n",
    "Before that, though, let's install the required packages.\n",
    "\n",
    "## Installing Requirements"
   ]
  },
  {
   "cell_type": "code",
   "execution_count": 1,
   "id": "c78d5a1f-8205-4da9-966b-1f69ce543983",
   "metadata": {},
   "outputs": [
    {
     "name": "stdout",
     "output_type": "stream",
     "text": [
      "Looking in indexes: https://pypi.org/simple, https://pypi.ngc.nvidia.com\n",
      "Collecting git+https://github.com/qiboteam/qiboml\n",
      "  Cloning https://github.com/qiboteam/qiboml to /tmp/pip-req-build-hxwze2n1\n",
      "  Running command git clone --filter=blob:none --quiet https://github.com/qiboteam/qiboml /tmp/pip-req-build-hxwze2n1\n",
      "  Resolved https://github.com/qiboteam/qiboml to commit 3e52004c497ca738730e21aa5a2ca8c2f6044398\n",
      "  Installing build dependencies ... \u001b[?25ldone\n",
      "\u001b[?25h  Getting requirements to build wheel ... \u001b[?25ldone\n",
      "\u001b[?25h  Preparing metadata (pyproject.toml) ... \u001b[?25ldone\n",
      "\u001b[?25hCollecting qibo@ git+https://github.com/qiboteam/qibo (from qiboml==0.0.1)\n",
      "  Cloning https://github.com/qiboteam/qibo to /tmp/pip-install-l7mfbttf/qibo_600c61a688334a049e950afbd994eab4\n",
      "  Running command git clone --filter=blob:none --quiet https://github.com/qiboteam/qibo /tmp/pip-install-l7mfbttf/qibo_600c61a688334a049e950afbd994eab4\n",
      "  Resolved https://github.com/qiboteam/qibo to commit ea6984d7594f403eeadc1e39ebbe0312a8f02716\n",
      "  Installing build dependencies ... \u001b[?25ldone\n",
      "\u001b[?25h  Getting requirements to build wheel ... \u001b[?25ldone\n",
      "\u001b[?25h  Preparing metadata (pyproject.toml) ... \u001b[?25ldone\n",
      "\u001b[?25hRequirement already satisfied: jax<0.5.0,>=0.4.25 in /home/andrea/python_envs/qibo/lib/python3.12/site-packages (from qiboml==0.0.1) (0.4.30)\n",
      "Requirement already satisfied: jaxlib<0.5.0,>=0.4.25 in /home/andrea/python_envs/qibo/lib/python3.12/site-packages (from qiboml==0.0.1) (0.4.30)\n",
      "Requirement already satisfied: keras<4.0.0,>=3.0.0 in /home/andrea/python_envs/qibo/lib/python3.12/site-packages (from qiboml==0.0.1) (3.5.0)\n",
      "Requirement already satisfied: numpy<2.0.0,>=1.26.4 in /home/andrea/python_envs/qibo/lib/python3.12/site-packages (from qiboml==0.0.1) (1.26.4)\n",
      "Requirement already satisfied: tensorflow<3.0.0,>=2.16.1 in /home/andrea/python_envs/qibo/lib/python3.12/site-packages (from qiboml==0.0.1) (2.17.0)\n",
      "Requirement already satisfied: torch<3.0.0,>=2.3.1 in /home/andrea/python_envs/qibo/lib/python3.12/site-packages (from qiboml==0.0.1) (2.5.1)\n",
      "Requirement already satisfied: ml-dtypes>=0.2.0 in /home/andrea/python_envs/qibo/lib/python3.12/site-packages (from jax<0.5.0,>=0.4.25->qiboml==0.0.1) (0.4.1)\n",
      "Requirement already satisfied: opt-einsum in /home/andrea/python_envs/qibo/lib/python3.12/site-packages (from jax<0.5.0,>=0.4.25->qiboml==0.0.1) (3.3.0)\n",
      "Requirement already satisfied: scipy>=1.9 in /home/andrea/python_envs/qibo/lib/python3.12/site-packages (from jax<0.5.0,>=0.4.25->qiboml==0.0.1) (1.13.1)\n",
      "Requirement already satisfied: absl-py in /home/andrea/python_envs/qibo/lib/python3.12/site-packages (from keras<4.0.0,>=3.0.0->qiboml==0.0.1) (2.1.0)\n",
      "Requirement already satisfied: rich in /home/andrea/python_envs/qibo/lib/python3.12/site-packages (from keras<4.0.0,>=3.0.0->qiboml==0.0.1) (13.8.1)\n",
      "Requirement already satisfied: namex in /home/andrea/python_envs/qibo/lib/python3.12/site-packages (from keras<4.0.0,>=3.0.0->qiboml==0.0.1) (0.0.8)\n",
      "Requirement already satisfied: h5py in /home/andrea/python_envs/qibo/lib/python3.12/site-packages (from keras<4.0.0,>=3.0.0->qiboml==0.0.1) (3.11.0)\n",
      "Requirement already satisfied: optree in /home/andrea/python_envs/qibo/lib/python3.12/site-packages (from keras<4.0.0,>=3.0.0->qiboml==0.0.1) (0.12.1)\n",
      "Requirement already satisfied: packaging in /home/andrea/python_envs/qibo/lib/python3.12/site-packages (from keras<4.0.0,>=3.0.0->qiboml==0.0.1) (24.1)\n",
      "Requirement already satisfied: astunparse>=1.6.0 in /home/andrea/python_envs/qibo/lib/python3.12/site-packages (from tensorflow<3.0.0,>=2.16.1->qiboml==0.0.1) (1.6.3)\n",
      "Requirement already satisfied: flatbuffers>=24.3.25 in /home/andrea/python_envs/qibo/lib/python3.12/site-packages (from tensorflow<3.0.0,>=2.16.1->qiboml==0.0.1) (24.3.25)\n",
      "Requirement already satisfied: gast!=0.5.0,!=0.5.1,!=0.5.2,>=0.2.1 in /home/andrea/python_envs/qibo/lib/python3.12/site-packages (from tensorflow<3.0.0,>=2.16.1->qiboml==0.0.1) (0.6.0)\n",
      "Requirement already satisfied: google-pasta>=0.1.1 in /home/andrea/python_envs/qibo/lib/python3.12/site-packages (from tensorflow<3.0.0,>=2.16.1->qiboml==0.0.1) (0.2.0)\n",
      "Requirement already satisfied: libclang>=13.0.0 in /home/andrea/python_envs/qibo/lib/python3.12/site-packages (from tensorflow<3.0.0,>=2.16.1->qiboml==0.0.1) (18.1.1)\n",
      "Requirement already satisfied: protobuf!=4.21.0,!=4.21.1,!=4.21.2,!=4.21.3,!=4.21.4,!=4.21.5,<5.0.0dev,>=3.20.3 in /home/andrea/python_envs/qibo/lib/python3.12/site-packages (from tensorflow<3.0.0,>=2.16.1->qiboml==0.0.1) (4.25.4)\n",
      "Requirement already satisfied: requests<3,>=2.21.0 in /home/andrea/python_envs/qibo/lib/python3.12/site-packages (from tensorflow<3.0.0,>=2.16.1->qiboml==0.0.1) (2.32.3)\n",
      "Requirement already satisfied: setuptools in /home/andrea/python_envs/qibo/lib/python3.12/site-packages (from tensorflow<3.0.0,>=2.16.1->qiboml==0.0.1) (75.1.0)\n",
      "Requirement already satisfied: six>=1.12.0 in /home/andrea/python_envs/qibo/lib/python3.12/site-packages (from tensorflow<3.0.0,>=2.16.1->qiboml==0.0.1) (1.16.0)\n",
      "Requirement already satisfied: termcolor>=1.1.0 in /home/andrea/python_envs/qibo/lib/python3.12/site-packages (from tensorflow<3.0.0,>=2.16.1->qiboml==0.0.1) (2.4.0)\n",
      "Requirement already satisfied: typing-extensions>=3.6.6 in /home/andrea/python_envs/qibo/lib/python3.12/site-packages (from tensorflow<3.0.0,>=2.16.1->qiboml==0.0.1) (4.12.2)\n",
      "Requirement already satisfied: wrapt>=1.11.0 in /home/andrea/python_envs/qibo/lib/python3.12/site-packages (from tensorflow<3.0.0,>=2.16.1->qiboml==0.0.1) (1.16.0)\n",
      "Requirement already satisfied: grpcio<2.0,>=1.24.3 in /home/andrea/python_envs/qibo/lib/python3.12/site-packages (from tensorflow<3.0.0,>=2.16.1->qiboml==0.0.1) (1.66.1)\n",
      "Requirement already satisfied: tensorboard<2.18,>=2.17 in /home/andrea/python_envs/qibo/lib/python3.12/site-packages (from tensorflow<3.0.0,>=2.16.1->qiboml==0.0.1) (2.17.1)\n",
      "Requirement already satisfied: filelock in /home/andrea/python_envs/qibo/lib/python3.12/site-packages (from torch<3.0.0,>=2.3.1->qiboml==0.0.1) (3.16.1)\n",
      "Requirement already satisfied: networkx in /home/andrea/python_envs/qibo/lib/python3.12/site-packages (from torch<3.0.0,>=2.3.1->qiboml==0.0.1) (3.2.1)\n",
      "Requirement already satisfied: jinja2 in /home/andrea/python_envs/qibo/lib/python3.12/site-packages (from torch<3.0.0,>=2.3.1->qiboml==0.0.1) (3.1.4)\n",
      "Requirement already satisfied: fsspec in /home/andrea/python_envs/qibo/lib/python3.12/site-packages (from torch<3.0.0,>=2.3.1->qiboml==0.0.1) (2024.9.0)\n",
      "Requirement already satisfied: nvidia-cuda-nvrtc-cu12==12.4.127 in /home/andrea/python_envs/qibo/lib/python3.12/site-packages (from torch<3.0.0,>=2.3.1->qiboml==0.0.1) (12.4.127)\n",
      "Requirement already satisfied: nvidia-cuda-runtime-cu12==12.4.127 in /home/andrea/python_envs/qibo/lib/python3.12/site-packages (from torch<3.0.0,>=2.3.1->qiboml==0.0.1) (12.4.127)\n",
      "Requirement already satisfied: nvidia-cuda-cupti-cu12==12.4.127 in /home/andrea/python_envs/qibo/lib/python3.12/site-packages (from torch<3.0.0,>=2.3.1->qiboml==0.0.1) (12.4.127)\n",
      "Requirement already satisfied: nvidia-cudnn-cu12==9.1.0.70 in /home/andrea/python_envs/qibo/lib/python3.12/site-packages (from torch<3.0.0,>=2.3.1->qiboml==0.0.1) (9.1.0.70)\n",
      "Requirement already satisfied: nvidia-cublas-cu12==12.4.5.8 in /home/andrea/python_envs/qibo/lib/python3.12/site-packages (from torch<3.0.0,>=2.3.1->qiboml==0.0.1) (12.4.5.8)\n",
      "Requirement already satisfied: nvidia-cufft-cu12==11.2.1.3 in /home/andrea/python_envs/qibo/lib/python3.12/site-packages (from torch<3.0.0,>=2.3.1->qiboml==0.0.1) (11.2.1.3)\n",
      "Requirement already satisfied: nvidia-curand-cu12==10.3.5.147 in /home/andrea/python_envs/qibo/lib/python3.12/site-packages (from torch<3.0.0,>=2.3.1->qiboml==0.0.1) (10.3.5.147)\n",
      "Requirement already satisfied: nvidia-cusolver-cu12==11.6.1.9 in /home/andrea/python_envs/qibo/lib/python3.12/site-packages (from torch<3.0.0,>=2.3.1->qiboml==0.0.1) (11.6.1.9)\n",
      "Requirement already satisfied: nvidia-cusparse-cu12==12.3.1.170 in /home/andrea/python_envs/qibo/lib/python3.12/site-packages (from torch<3.0.0,>=2.3.1->qiboml==0.0.1) (12.3.1.170)\n",
      "Requirement already satisfied: nvidia-nccl-cu12==2.21.5 in /home/andrea/python_envs/qibo/lib/python3.12/site-packages (from torch<3.0.0,>=2.3.1->qiboml==0.0.1) (2.21.5)\n",
      "Requirement already satisfied: nvidia-nvtx-cu12==12.4.127 in /home/andrea/python_envs/qibo/lib/python3.12/site-packages (from torch<3.0.0,>=2.3.1->qiboml==0.0.1) (12.4.127)\n",
      "Requirement already satisfied: nvidia-nvjitlink-cu12==12.4.127 in /home/andrea/python_envs/qibo/lib/python3.12/site-packages (from torch<3.0.0,>=2.3.1->qiboml==0.0.1) (12.4.127)\n",
      "Requirement already satisfied: triton==3.1.0 in /home/andrea/python_envs/qibo/lib/python3.12/site-packages (from torch<3.0.0,>=2.3.1->qiboml==0.0.1) (3.1.0)\n",
      "Requirement already satisfied: sympy==1.13.1 in /home/andrea/python_envs/qibo/lib/python3.12/site-packages (from torch<3.0.0,>=2.3.1->qiboml==0.0.1) (1.13.1)\n",
      "Requirement already satisfied: mpmath<1.4,>=1.1.0 in /home/andrea/python_envs/qibo/lib/python3.12/site-packages (from sympy==1.13.1->torch<3.0.0,>=2.3.1->qiboml==0.0.1) (1.3.0)\n",
      "Requirement already satisfied: cma<4.0.0,>=3.3.0 in /home/andrea/python_envs/qibo/lib/python3.12/site-packages (from qibo@ git+https://github.com/qiboteam/qibo->qiboml==0.0.1) (3.4.0)\n",
      "Requirement already satisfied: joblib<2.0.0,>=1.2.0 in /home/andrea/python_envs/qibo/lib/python3.12/site-packages (from qibo@ git+https://github.com/qiboteam/qibo->qiboml==0.0.1) (1.4.2)\n",
      "Requirement already satisfied: openqasm3>=0.5.0 in /home/andrea/python_envs/qibo/lib/python3.12/site-packages (from openqasm3[parser]>=0.5.0->qibo@ git+https://github.com/qiboteam/qibo->qiboml==0.0.1) (1.0.0)\n",
      "Requirement already satisfied: optuna<5.0.0,>=4.0.0 in /home/andrea/python_envs/qibo/lib/python3.12/site-packages (from qibo@ git+https://github.com/qiboteam/qibo->qiboml==0.0.1) (4.0.0)\n",
      "Requirement already satisfied: tabulate<0.10.0,>=0.9.0 in /home/andrea/python_envs/qibo/lib/python3.12/site-packages (from qibo@ git+https://github.com/qiboteam/qibo->qiboml==0.0.1) (0.9.0)\n",
      "Requirement already satisfied: wheel<1.0,>=0.23.0 in /home/andrea/python_envs/qibo/lib/python3.12/site-packages (from astunparse>=1.6.0->tensorflow<3.0.0,>=2.16.1->qiboml==0.0.1) (0.44.0)\n",
      "Requirement already satisfied: antlr4-python3-runtime<4.14,>=4.7 in /home/andrea/python_envs/qibo/lib/python3.12/site-packages (from openqasm3[parser]>=0.5.0->qibo@ git+https://github.com/qiboteam/qibo->qiboml==0.0.1) (4.13.2)\n",
      "Requirement already satisfied: alembic>=1.5.0 in /home/andrea/python_envs/qibo/lib/python3.12/site-packages (from optuna<5.0.0,>=4.0.0->qibo@ git+https://github.com/qiboteam/qibo->qiboml==0.0.1) (1.13.3)\n",
      "Requirement already satisfied: colorlog in /home/andrea/python_envs/qibo/lib/python3.12/site-packages (from optuna<5.0.0,>=4.0.0->qibo@ git+https://github.com/qiboteam/qibo->qiboml==0.0.1) (6.8.2)\n",
      "Requirement already satisfied: sqlalchemy>=1.3.0 in /home/andrea/python_envs/qibo/lib/python3.12/site-packages (from optuna<5.0.0,>=4.0.0->qibo@ git+https://github.com/qiboteam/qibo->qiboml==0.0.1) (2.0.36)\n",
      "Requirement already satisfied: tqdm in /home/andrea/python_envs/qibo/lib/python3.12/site-packages (from optuna<5.0.0,>=4.0.0->qibo@ git+https://github.com/qiboteam/qibo->qiboml==0.0.1) (4.66.6)\n",
      "Requirement already satisfied: PyYAML in /home/andrea/python_envs/qibo/lib/python3.12/site-packages (from optuna<5.0.0,>=4.0.0->qibo@ git+https://github.com/qiboteam/qibo->qiboml==0.0.1) (6.0.2)\n",
      "Requirement already satisfied: charset-normalizer<4,>=2 in /home/andrea/python_envs/qibo/lib/python3.12/site-packages (from requests<3,>=2.21.0->tensorflow<3.0.0,>=2.16.1->qiboml==0.0.1) (3.4.0)\n",
      "Requirement already satisfied: idna<4,>=2.5 in /home/andrea/python_envs/qibo/lib/python3.12/site-packages (from requests<3,>=2.21.0->tensorflow<3.0.0,>=2.16.1->qiboml==0.0.1) (3.10)\n",
      "Requirement already satisfied: urllib3<3,>=1.21.1 in /home/andrea/python_envs/qibo/lib/python3.12/site-packages (from requests<3,>=2.21.0->tensorflow<3.0.0,>=2.16.1->qiboml==0.0.1) (2.2.3)\n",
      "Requirement already satisfied: certifi>=2017.4.17 in /home/andrea/python_envs/qibo/lib/python3.12/site-packages (from requests<3,>=2.21.0->tensorflow<3.0.0,>=2.16.1->qiboml==0.0.1) (2024.8.30)\n",
      "Requirement already satisfied: markdown>=2.6.8 in /home/andrea/python_envs/qibo/lib/python3.12/site-packages (from tensorboard<2.18,>=2.17->tensorflow<3.0.0,>=2.16.1->qiboml==0.0.1) (3.7)\n",
      "Requirement already satisfied: tensorboard-data-server<0.8.0,>=0.7.0 in /home/andrea/python_envs/qibo/lib/python3.12/site-packages (from tensorboard<2.18,>=2.17->tensorflow<3.0.0,>=2.16.1->qiboml==0.0.1) (0.7.2)\n",
      "Requirement already satisfied: werkzeug>=1.0.1 in /home/andrea/python_envs/qibo/lib/python3.12/site-packages (from tensorboard<2.18,>=2.17->tensorflow<3.0.0,>=2.16.1->qiboml==0.0.1) (3.0.4)\n",
      "Requirement already satisfied: MarkupSafe>=2.0 in /home/andrea/python_envs/qibo/lib/python3.12/site-packages (from jinja2->torch<3.0.0,>=2.3.1->qiboml==0.0.1) (3.0.2)\n",
      "Requirement already satisfied: markdown-it-py>=2.2.0 in /home/andrea/python_envs/qibo/lib/python3.12/site-packages (from rich->keras<4.0.0,>=3.0.0->qiboml==0.0.1) (3.0.0)\n",
      "Requirement already satisfied: pygments<3.0.0,>=2.13.0 in /home/andrea/python_envs/qibo/lib/python3.12/site-packages (from rich->keras<4.0.0,>=3.0.0->qiboml==0.0.1) (2.18.0)\n",
      "Requirement already satisfied: Mako in /home/andrea/python_envs/qibo/lib/python3.12/site-packages (from alembic>=1.5.0->optuna<5.0.0,>=4.0.0->qibo@ git+https://github.com/qiboteam/qibo->qiboml==0.0.1) (1.3.6)\n",
      "Requirement already satisfied: mdurl~=0.1 in /home/andrea/python_envs/qibo/lib/python3.12/site-packages (from markdown-it-py>=2.2.0->rich->keras<4.0.0,>=3.0.0->qiboml==0.0.1) (0.1.2)\n",
      "Requirement already satisfied: greenlet!=0.4.17 in /home/andrea/python_envs/qibo/lib/python3.12/site-packages (from sqlalchemy>=1.3.0->optuna<5.0.0,>=4.0.0->qibo@ git+https://github.com/qiboteam/qibo->qiboml==0.0.1) (3.1.1)\n",
      "Looking in indexes: https://pypi.org/simple, https://pypi.ngc.nvidia.com\n",
      "Requirement already satisfied: torch in /home/andrea/python_envs/qibo/lib/python3.12/site-packages (2.5.1)\n",
      "Requirement already satisfied: filelock in /home/andrea/python_envs/qibo/lib/python3.12/site-packages (from torch) (3.16.1)\n",
      "Requirement already satisfied: typing-extensions>=4.8.0 in /home/andrea/python_envs/qibo/lib/python3.12/site-packages (from torch) (4.12.2)\n",
      "Requirement already satisfied: networkx in /home/andrea/python_envs/qibo/lib/python3.12/site-packages (from torch) (3.2.1)\n",
      "Requirement already satisfied: jinja2 in /home/andrea/python_envs/qibo/lib/python3.12/site-packages (from torch) (3.1.4)\n",
      "Requirement already satisfied: fsspec in /home/andrea/python_envs/qibo/lib/python3.12/site-packages (from torch) (2024.9.0)\n",
      "Requirement already satisfied: nvidia-cuda-nvrtc-cu12==12.4.127 in /home/andrea/python_envs/qibo/lib/python3.12/site-packages (from torch) (12.4.127)\n",
      "Requirement already satisfied: nvidia-cuda-runtime-cu12==12.4.127 in /home/andrea/python_envs/qibo/lib/python3.12/site-packages (from torch) (12.4.127)\n",
      "Requirement already satisfied: nvidia-cuda-cupti-cu12==12.4.127 in /home/andrea/python_envs/qibo/lib/python3.12/site-packages (from torch) (12.4.127)\n",
      "Requirement already satisfied: nvidia-cudnn-cu12==9.1.0.70 in /home/andrea/python_envs/qibo/lib/python3.12/site-packages (from torch) (9.1.0.70)\n",
      "Requirement already satisfied: nvidia-cublas-cu12==12.4.5.8 in /home/andrea/python_envs/qibo/lib/python3.12/site-packages (from torch) (12.4.5.8)\n",
      "Requirement already satisfied: nvidia-cufft-cu12==11.2.1.3 in /home/andrea/python_envs/qibo/lib/python3.12/site-packages (from torch) (11.2.1.3)\n",
      "Requirement already satisfied: nvidia-curand-cu12==10.3.5.147 in /home/andrea/python_envs/qibo/lib/python3.12/site-packages (from torch) (10.3.5.147)\n",
      "Requirement already satisfied: nvidia-cusolver-cu12==11.6.1.9 in /home/andrea/python_envs/qibo/lib/python3.12/site-packages (from torch) (11.6.1.9)\n",
      "Requirement already satisfied: nvidia-cusparse-cu12==12.3.1.170 in /home/andrea/python_envs/qibo/lib/python3.12/site-packages (from torch) (12.3.1.170)\n",
      "Requirement already satisfied: nvidia-nccl-cu12==2.21.5 in /home/andrea/python_envs/qibo/lib/python3.12/site-packages (from torch) (2.21.5)\n",
      "Requirement already satisfied: nvidia-nvtx-cu12==12.4.127 in /home/andrea/python_envs/qibo/lib/python3.12/site-packages (from torch) (12.4.127)\n",
      "Requirement already satisfied: nvidia-nvjitlink-cu12==12.4.127 in /home/andrea/python_envs/qibo/lib/python3.12/site-packages (from torch) (12.4.127)\n",
      "Requirement already satisfied: triton==3.1.0 in /home/andrea/python_envs/qibo/lib/python3.12/site-packages (from torch) (3.1.0)\n",
      "Requirement already satisfied: setuptools in /home/andrea/python_envs/qibo/lib/python3.12/site-packages (from torch) (75.1.0)\n",
      "Requirement already satisfied: sympy==1.13.1 in /home/andrea/python_envs/qibo/lib/python3.12/site-packages (from torch) (1.13.1)\n",
      "Requirement already satisfied: mpmath<1.4,>=1.1.0 in /home/andrea/python_envs/qibo/lib/python3.12/site-packages (from sympy==1.13.1->torch) (1.3.0)\n",
      "Requirement already satisfied: MarkupSafe>=2.0 in /home/andrea/python_envs/qibo/lib/python3.12/site-packages (from jinja2->torch) (3.0.2)\n",
      "Looking in indexes: https://pypi.org/simple, https://pypi.ngc.nvidia.com\n",
      "Requirement already satisfied: torchvision in /home/andrea/python_envs/qibo/lib/python3.12/site-packages (0.20.1)\n",
      "Requirement already satisfied: torchmetrics in /home/andrea/python_envs/qibo/lib/python3.12/site-packages (1.6.0)\n",
      "Requirement already satisfied: matplotlib in /home/andrea/python_envs/qibo/lib/python3.12/site-packages (3.9.2)\n",
      "Requirement already satisfied: numpy in /home/andrea/python_envs/qibo/lib/python3.12/site-packages (from torchvision) (1.26.4)\n",
      "Requirement already satisfied: torch==2.5.1 in /home/andrea/python_envs/qibo/lib/python3.12/site-packages (from torchvision) (2.5.1)\n",
      "Requirement already satisfied: pillow!=8.3.*,>=5.3.0 in /home/andrea/python_envs/qibo/lib/python3.12/site-packages (from torchvision) (10.4.0)\n",
      "Requirement already satisfied: filelock in /home/andrea/python_envs/qibo/lib/python3.12/site-packages (from torch==2.5.1->torchvision) (3.16.1)\n",
      "Requirement already satisfied: typing-extensions>=4.8.0 in /home/andrea/python_envs/qibo/lib/python3.12/site-packages (from torch==2.5.1->torchvision) (4.12.2)\n",
      "Requirement already satisfied: networkx in /home/andrea/python_envs/qibo/lib/python3.12/site-packages (from torch==2.5.1->torchvision) (3.2.1)\n",
      "Requirement already satisfied: jinja2 in /home/andrea/python_envs/qibo/lib/python3.12/site-packages (from torch==2.5.1->torchvision) (3.1.4)\n",
      "Requirement already satisfied: fsspec in /home/andrea/python_envs/qibo/lib/python3.12/site-packages (from torch==2.5.1->torchvision) (2024.9.0)\n",
      "Requirement already satisfied: nvidia-cuda-nvrtc-cu12==12.4.127 in /home/andrea/python_envs/qibo/lib/python3.12/site-packages (from torch==2.5.1->torchvision) (12.4.127)\n",
      "Requirement already satisfied: nvidia-cuda-runtime-cu12==12.4.127 in /home/andrea/python_envs/qibo/lib/python3.12/site-packages (from torch==2.5.1->torchvision) (12.4.127)\n",
      "Requirement already satisfied: nvidia-cuda-cupti-cu12==12.4.127 in /home/andrea/python_envs/qibo/lib/python3.12/site-packages (from torch==2.5.1->torchvision) (12.4.127)\n",
      "Requirement already satisfied: nvidia-cudnn-cu12==9.1.0.70 in /home/andrea/python_envs/qibo/lib/python3.12/site-packages (from torch==2.5.1->torchvision) (9.1.0.70)\n",
      "Requirement already satisfied: nvidia-cublas-cu12==12.4.5.8 in /home/andrea/python_envs/qibo/lib/python3.12/site-packages (from torch==2.5.1->torchvision) (12.4.5.8)\n",
      "Requirement already satisfied: nvidia-cufft-cu12==11.2.1.3 in /home/andrea/python_envs/qibo/lib/python3.12/site-packages (from torch==2.5.1->torchvision) (11.2.1.3)\n",
      "Requirement already satisfied: nvidia-curand-cu12==10.3.5.147 in /home/andrea/python_envs/qibo/lib/python3.12/site-packages (from torch==2.5.1->torchvision) (10.3.5.147)\n",
      "Requirement already satisfied: nvidia-cusolver-cu12==11.6.1.9 in /home/andrea/python_envs/qibo/lib/python3.12/site-packages (from torch==2.5.1->torchvision) (11.6.1.9)\n",
      "Requirement already satisfied: nvidia-cusparse-cu12==12.3.1.170 in /home/andrea/python_envs/qibo/lib/python3.12/site-packages (from torch==2.5.1->torchvision) (12.3.1.170)\n",
      "Requirement already satisfied: nvidia-nccl-cu12==2.21.5 in /home/andrea/python_envs/qibo/lib/python3.12/site-packages (from torch==2.5.1->torchvision) (2.21.5)\n",
      "Requirement already satisfied: nvidia-nvtx-cu12==12.4.127 in /home/andrea/python_envs/qibo/lib/python3.12/site-packages (from torch==2.5.1->torchvision) (12.4.127)\n",
      "Requirement already satisfied: nvidia-nvjitlink-cu12==12.4.127 in /home/andrea/python_envs/qibo/lib/python3.12/site-packages (from torch==2.5.1->torchvision) (12.4.127)\n",
      "Requirement already satisfied: triton==3.1.0 in /home/andrea/python_envs/qibo/lib/python3.12/site-packages (from torch==2.5.1->torchvision) (3.1.0)\n",
      "Requirement already satisfied: setuptools in /home/andrea/python_envs/qibo/lib/python3.12/site-packages (from torch==2.5.1->torchvision) (75.1.0)\n",
      "Requirement already satisfied: sympy==1.13.1 in /home/andrea/python_envs/qibo/lib/python3.12/site-packages (from torch==2.5.1->torchvision) (1.13.1)\n",
      "Requirement already satisfied: mpmath<1.4,>=1.1.0 in /home/andrea/python_envs/qibo/lib/python3.12/site-packages (from sympy==1.13.1->torch==2.5.1->torchvision) (1.3.0)\n",
      "Requirement already satisfied: packaging>17.1 in /home/andrea/python_envs/qibo/lib/python3.12/site-packages (from torchmetrics) (24.1)\n",
      "Requirement already satisfied: lightning-utilities>=0.8.0 in /home/andrea/python_envs/qibo/lib/python3.12/site-packages (from torchmetrics) (0.11.9)\n",
      "Requirement already satisfied: contourpy>=1.0.1 in /home/andrea/python_envs/qibo/lib/python3.12/site-packages (from matplotlib) (1.3.0)\n",
      "Requirement already satisfied: cycler>=0.10 in /home/andrea/python_envs/qibo/lib/python3.12/site-packages (from matplotlib) (0.12.1)\n",
      "Requirement already satisfied: fonttools>=4.22.0 in /home/andrea/python_envs/qibo/lib/python3.12/site-packages (from matplotlib) (4.53.1)\n",
      "Requirement already satisfied: kiwisolver>=1.3.1 in /home/andrea/python_envs/qibo/lib/python3.12/site-packages (from matplotlib) (1.4.7)\n",
      "Requirement already satisfied: pyparsing>=2.3.1 in /home/andrea/python_envs/qibo/lib/python3.12/site-packages (from matplotlib) (3.1.4)\n",
      "Requirement already satisfied: python-dateutil>=2.7 in /home/andrea/python_envs/qibo/lib/python3.12/site-packages (from matplotlib) (2.9.0.post0)\n",
      "Requirement already satisfied: six>=1.5 in /home/andrea/python_envs/qibo/lib/python3.12/site-packages (from python-dateutil>=2.7->matplotlib) (1.16.0)\n",
      "Requirement already satisfied: MarkupSafe>=2.0 in /home/andrea/python_envs/qibo/lib/python3.12/site-packages (from jinja2->torch==2.5.1->torchvision) (3.0.2)\n"
     ]
    }
   ],
   "source": [
    "# qiboml, provides the means to build the quantum model\n",
    "!pip install git+https://github.com/qiboteam/qiboml\n",
    "\n",
    "# torch, handles the creation of all the classical layers\n",
    "# and provides the optimizer\n",
    "!pip install torch\n",
    "\n",
    "# some additional requirements to run this notebook\n",
    "# torchvision to gather the MNIST dataset\n",
    "# torchmetrics to evaluate the performance\n",
    "# matplotlib to do some plotting\n",
    "!pip install torchvision torchmetrics matplotlib"
   ]
  },
  {
   "cell_type": "markdown",
   "id": "037aae23-283a-47a0-8b8b-f9684374c8cd",
   "metadata": {},
   "source": [
    "## Dataset Preparation\n",
    "\n",
    "Now, let's start by downloading the MNIST dataset. Each element of the dataset is a `28x28` black and white image representing a hand written digit from `0` to `9`. However, since we are interested in just the zeros and ones for our simplified binary classification problem, we extract from the complete dataset just the element that are labeled as either `0` or `1`. \n",
    "\n",
    "Since the problem is relatively simple, we will not need the whole dataset, but, rather, about 100 train samples should be enough to obtain a reasonable accuracy. Analogously, we also take other 100 samples for testing."
   ]
  },
  {
   "cell_type": "code",
   "execution_count": 2,
   "id": "4c3d6df3-99a0-46f7-a054-77cd907dd6df",
   "metadata": {},
   "outputs": [
    {
     "name": "stdout",
     "output_type": "stream",
     "text": [
      "First element of the dataset:\n",
      "label: 5\n",
      "shape: torch.Size([28, 28])\n",
      "image:\n",
      "\n"
     ]
    },
    {
     "data": {
      "image/jpeg": "[encoded data removed]",
      "image/png": "[encoded data removed]",
      "text/plain": [
       "<PIL.Image.Image image mode=L size=28x28>"
      ]
     },
     "metadata": {},
     "output_type": "display_data"
    },
    {
     "name": "stdout",
     "output_type": "stream",
     "text": [
      "\n",
      "First element of our binary classification task:\n",
      "label: 0\n",
      "image:\n",
      "\n"
     ]
    },
    {
     "data": {
      "image/jpeg": "[encoded data removed]",
      "image/png": "[encoded data removed]",
      "text/plain": [
       "<PIL.Image.Image image mode=L size=28x28>"
      ]
     },
     "metadata": {},
     "output_type": "display_data"
    }
   ],
   "source": [
    "from torchvision.datasets import MNIST\n",
    "\n",
    "# get the MNIST dataset\n",
    "dataset = MNIST(\"./\", download=True)\n",
    "# each element is an image of shape 28x28\n",
    "print(f\"First element of the dataset:\\nlabel: {dataset[0][1]}\\nshape: {dataset.data[0].shape}\\nimage:\\n\")\n",
    "display(dataset[0][0])\n",
    "\n",
    "# we keep only the zeros and ones for binary classification\n",
    "zeros_and_ones = [i for i, d in enumerate(dataset) if d[1] in (0,1)]\n",
    "# for this small example 100 data for training should be enough\n",
    "# we also extract 100 other data for testing\n",
    "# in practice we take the first 200 zeros and ones found in the dataset\n",
    "train_data, test_data = dataset.data[zeros_and_ones][:200].double().view(2, 100, 1, 28, 28)\n",
    "train_targets, test_targets = dataset.targets[zeros_and_ones][:200].double().view(2, 100, 1)\n",
    "# flatten the targets\n",
    "train_targets, test_targets = train_targets.view(-1,), test_targets.view(-1,)\n",
    "train_images = [dataset[i][0] for i in zeros_and_ones][:100]\n",
    "test_images = [dataset[i][0] for i in zeros_and_ones][100:200]\n",
    "\n",
    "print(f\"\\nFirst element of our binary classification task:\\nlabel: {int(train_targets[0])}\\nimage:\\n\")\n",
    "display(train_images[0])"
   ]
  },
  {
   "cell_type": "markdown",
   "id": "43d4c81b-65c2-4170-b0c6-b15ab4b762bc",
   "metadata": {},
   "source": [
    "## Construct the Image Encoder\n",
    "\n",
    "Now that we have prepared all the data we need, we can move to creating the image encoder first. This is going to take care of the initial encoding of the images, mapping the original `28x28` matrix into `n` output features. As it will become clearer in the following, the dimension of the extracted features, `n`, has to be consistent with the quantum classification head. For instance, as in this example we are going to use a simple phase encoding to encode the features in rotation angles on the different qubits (one rotation for each qubit), we will have that `n` equals the number of qubits of the variational circuit.\n",
    "\n",
    "The image encoder is a purely classical layer, composed by a convolution, a pooling and a bunch of linear layers. Everything is implemented trhough the native `pytorch` API."
   ]
  },
  {
   "cell_type": "code",
   "execution_count": 3,
   "id": "f7143a5f-2066-4cbf-a7a7-375a77d457d3",
   "metadata": {},
   "outputs": [],
   "source": [
    "import torch\n",
    "import torch.nn as nn\n",
    "import torch.nn.functional as F\n",
    "\n",
    "# we can define a classical image encoder\n",
    "# composed of a combination of convolutional, pooling and linear layers\n",
    "\n",
    "# number of extracted output features\n",
    "n_out_features = 2\n",
    "\n",
    "class ImageEncoder(nn.Module):\n",
    "    def __init__(self):\n",
    "        super().__init__()\n",
    "        self.conv1 = nn.Conv2d(1, 3, 3)\n",
    "        self.pool = nn.MaxPool2d(2, 2)\n",
    "        self.fc1 = nn.Linear(3 * 13 * 13, 32)\n",
    "        self.fc3 = nn.Linear(32, n_out_features)\n",
    "\n",
    "    def forward(self, x):\n",
    "        x = self.pool(F.relu(self.conv1(x)))\n",
    "        x = torch.flatten(x) \n",
    "        x = F.relu(self.fc1(x))\n",
    "        x = self.fc3(x)\n",
    "        return x\n",
    "\n",
    "# we cast the layer to double precision, as this is the \n",
    "# default dtype used in qiboml, and more in general \n",
    "# for quantum simulation\n",
    "# this could could also be achieved by setting the torch \n",
    "# default dtype at the beginning with `torch.set_default_dtype(torch.float64)`\n",
    "img_encoder = ImageEncoder().double()\n"
   ]
  },
  {
   "cell_type": "markdown",
   "id": "1d1f4c57-393e-48ea-8692-981a3e1eadff",
   "metadata": {},
   "source": [
    "## Define the Quantum model\n",
    "\n",
    "On top of the classical image encoder we are going to build a quantum classification layer. This can be done by using the `pytorch` interface provided by `qiboml`, namely the `qiboml.models.pytorch.QuantumModel`. In particular, to build a quantum model we need to specify three different components:\n",
    "\n",
    "- the **encoding**: how the classical data is encoded into the quantum circuit\n",
    "- the **circuit**: the actual variational circuit that we train\n",
    "- the **decoding**: how the quantum information is decoded to recover a classical output\n",
    "\n",
    "`qiboml` provides some predefined standard layers for those in the three modules `qiboml.models.encoding`, `qiboml.models.decoding` and `qiboml.models.ansatze`. For example, we could use:\n",
    "\n",
    "- **PhaseEncoding**: encodes the input features in `RY` rotations, one rotation on a different qubit for each feature\n",
    "- **Expectation**: decodes the quantum information by taking the expectation value of an observable on the final state after circuit execution\n",
    "\n",
    "and combine them with a custom variational circuit containing some parametrized rotations and entangling gates that we manually define.\n",
    "\n",
    "The `QuantumModel` can then be constructed by passing the three components `QuantumModel(encoding, circuit, decoding)`.\n",
    "\n",
    "Note that, as normally in `qibo`, you can set a global backend for the circuit execution. The backend choice mainly affects the decoding and autodifferentiation process, as, depending on the backend, different settings might be or not be available and differentiation is performed in a different way. For the time being, in this simple example, we are just going to use the `pytorch` backend that allows for native pytorch differentiation with the pytorch interface."
   ]
  },
  {
   "cell_type": "code",
   "execution_count": 4,
   "id": "ec1a8c49-a9f6-4c59-b802-a3b6387c6e7d",
   "metadata": {},
   "outputs": [
    {
     "name": "stderr",
     "output_type": "stream",
     "text": [
      "2024-11-20 18:48:34.950894: E external/local_xla/xla/stream_executor/cuda/cuda_fft.cc:485] Unable to register cuFFT factory: Attempting to register factory for plugin cuFFT when one has already been registered\n",
      "2024-11-20 18:48:34.964306: E external/local_xla/xla/stream_executor/cuda/cuda_dnn.cc:8454] Unable to register cuDNN factory: Attempting to register factory for plugin cuDNN when one has already been registered\n",
      "2024-11-20 18:48:34.968366: E external/local_xla/xla/stream_executor/cuda/cuda_blas.cc:1452] Unable to register cuBLAS factory: Attempting to register factory for plugin cuBLAS when one has already been registered\n",
      "2024-11-20 18:48:34.978523: I tensorflow/core/platform/cpu_feature_guard.cc:210] This TensorFlow binary is optimized to use available CPU instructions in performance-critical operations.\n",
      "To enable the following instructions: AVX2 FMA, in other operations, rebuild TensorFlow with the appropriate compiler flags.\n",
      "2024-11-20 18:48:35.588855: W tensorflow/compiler/tf2tensorrt/utils/py_utils.cc:38] TF-TRT Warning: Could not find TensorRT\n",
      "[Qibo 0.2.14|INFO|2024-11-20 18:48:36]: Using pytorch backend on cuda:0\n"
     ]
    },
    {
     "name": "stdout",
     "output_type": "stream",
     "text": [
      "Trainable Circuit:\n",
      "q0: ─RY─RZ─o─RY─RZ─o─RY─RZ─o─RY─RZ─o─RY─RZ─o─\n",
      "q1: ─RY─RZ─X─RY─RZ─X─RY─RZ─X─RY─RZ─X─RY─RZ─X─\n"
     ]
    }
   ],
   "source": [
    "import numpy as np\n",
    "from qibo import set_backend, Circuit, gates\n",
    "from qibo.symbols import Z\n",
    "from qibo.hamiltonians import SymbolicHamiltonian\n",
    "\n",
    "from qiboml.models.pytorch import QuantumModel\n",
    "from qiboml.models.encoding import PhaseEncoding\n",
    "from qiboml.models.decoding import Expectation\n",
    "\n",
    "# then we build the quantum model, that will\n",
    "# act as a classification layer on top of the\n",
    "# classical image encoder\n",
    "\n",
    "# let's set the qibo global backend with the one we like,\n",
    "# e.g. pytorch \n",
    "set_backend(\"pytorch\")\n",
    "\n",
    "# we prepare a quantum encoder to encode the \n",
    "# classical data in a quantum circuit\n",
    "# the number of qubits has to be equal to the number of\n",
    "# features extracted on the preceding layer, i.e. the\n",
    "# outputs of the image encoder\n",
    "nqubits = n_out_features\n",
    "encoding = PhaseEncoding(nqubits=nqubits)\n",
    "\n",
    "# we construct a trainable parametrized circuit\n",
    "# that is the core of our quantum model\n",
    "circuit = Circuit(nqubits)\n",
    "for _ in range(5):\n",
    "    for q in range(nqubits):\n",
    "        circuit.add(gates.RY(q, theta=np.random.randn() * np.pi))\n",
    "        circuit.add(gates.RZ(q, theta=np.random.randn() * np.pi))\n",
    "    circuit.add(gates.CNOT(0,1))\n",
    "print(\"Trainable Circuit:\")\n",
    "circuit.draw()\n",
    "\n",
    "# and finally we need a decoder to decode the quantum\n",
    "# information and extract the classical predictions,\n",
    "# for instance the expectation value calculation\n",
    "\n",
    "# for this we need to define the observable we wish to\n",
    "# measure\n",
    "observable = SymbolicHamiltonian(Z(0), nqubits=nqubits)\n",
    "# and then construct the expectation decoder\n",
    "decoding = Expectation(nqubits=nqubits, observable=observable, analytic=True)\n",
    "\n",
    "# we can then build the complete quantum model\n",
    "q_model = QuantumModel(\n",
    "    encoding,\n",
    "    circuit,\n",
    "    decoding\n",
    ")"
   ]
  },
  {
   "cell_type": "markdown",
   "id": "75cbc6bc-1841-4a61-9ef1-85c8f367d481",
   "metadata": {},
   "source": [
    "## Set up a custom activation for the Quantum model\n",
    "\n",
    "The final ingredient that we miss is an activation for the quantum layer. This is not stricly mandatory, in the sense that the pipeline would still work regardless, but, depending on the situation, it is usually a good idea to control what kind of data we are encoding in our circuit. \n",
    "\n",
    "For example, in this case we are using a phase encoding, meaning that we encode the data directly in rotation angles on the Bloch sphere. However, the features extracted by the classical image encoder can in principle take values in $ \\mathbb{R}^n $, while the rotations have a periodicity of $ 2\\pi $. Thus, taking for instance a rotation of $237.43$ is not very meaningful on its own, but more importantly, a small difference in such a large angle might still lead to a very different encoded quantum information, leading to a great asymmetry or incosistency between the classical and quantum layers that could make training the model very complicated. Note that the same is true in the opposite direction: a very large value but close to a multiple of $2\\pi$ (for instance $200 \\pi + \\epsilon$), would result in the exact same rotation as the small $\\epsilon$ signal.\n",
    "\n",
    "To put it into numbers, consider fo example the two features $237.43$ and $234.29$, while being very similar from the perspective of the image encoder, they account in practice for roughly a $ \\pi $ rotation ($ 237.43 - 234.29 = 3.14 $) for the quantum encoder. That's half of a full rotation on the Bloch sphere!\n",
    "\n",
    "Viceversa, two extremely different data for the classical image encoder, such as $3140$ ($\\sim 3000\\pi$) and $3.14$ ($\\sim \\pi$) would result in the exact same encoded quantum information.\n",
    "\n",
    "For this reason, in this case, we could define a custom activation that takes the outputs of the image encoder and maps them in the $(-\\pi, \\pi)$ interval through some nonlinear activation, e.g. the hyperbolic tangent. This again, is purely classical and thus we only rely on the pytorch API for the implementation."
   ]
  },
  {
   "cell_type": "code",
   "execution_count": 5,
   "id": "74c070bc-c58a-4703-97f3-699ee78fef66",
   "metadata": {},
   "outputs": [],
   "source": [
    "# Since we are using an angular encoding, it is better to\n",
    "# make sure that the output of the img_encoder are meaningful\n",
    "# angles. To do so we can define a custom torch activation\n",
    "# that rescales everything in the interval (-pi, pi)\n",
    "\n",
    "class PiTanh(nn.Module):\n",
    "\n",
    "    def forward(self, x):\n",
    "        # we first rescale x to avoid the risk\n",
    "        # of saturating the tanh too often and, thus,\n",
    "        # producing always the same angle\n",
    "        x = x / x.max()\n",
    "        # then we just apply the tanh and rescale by pi\n",
    "        return np.pi * F.tanh(x)\n",
    "\n",
    "activation = PiTanh().double()"
   ]
  },
  {
   "cell_type": "markdown",
   "id": "6ac807c5-e507-4f63-ae83-436cb3d96ae4",
   "metadata": {},
   "source": [
    "## Put everything together\n",
    "\n",
    "We can finally build the complete model by stacking the different layers on top of each other through the pytorch `Sequential` model."
   ]
  },
  {
   "cell_type": "code",
   "execution_count": 10,
   "id": "dac45461-78c3-48a0-95fc-9fafb5d14bcd",
   "metadata": {},
   "outputs": [
    {
     "name": "stdout",
     "output_type": "stream",
     "text": [
      "Sequential(\n",
      "  (0): ImageEncoder(\n",
      "    (conv1): Conv2d(1, 3, kernel_size=(3, 3), stride=(1, 1))\n",
      "    (pool): MaxPool2d(kernel_size=2, stride=2, padding=0, dilation=1, ceil_mode=False)\n",
      "    (fc1): Linear(in_features=507, out_features=32, bias=True)\n",
      "    (fc3): Linear(in_features=32, out_features=2, bias=True)\n",
      "  )\n",
      "  (1): PiTanh()\n",
      "  (2): QuantumModel(encoding=PhaseEncoding(nqubits=2, qubits=[0, 1], _circuit=<qibo.models.circuit.Circuit object at 0x7fe15441d3a0>), circuit=<qibo.models.circuit.Circuit object at 0x7fe154569f70>, decoding=Expectation(nqubits=2, qubits=[0, 1], nshots=1000, analytic=True, backend=pytorch, _circuit=<qibo.models.circuit.Circuit object at 0x7fe155a70c20>, observable=<qibo.hamiltonians.hamiltonians.SymbolicHamiltonian object at 0x7fe155df3470>), differentiation=None)\n",
      ")\n"
     ]
    }
   ],
   "source": [
    "# Finally, the complete hybrid classical-quantum pipeline can\n",
    "# be built by stacking the different components in a \n",
    "# torch.nn.Sequential as usual\n",
    "model = nn.Sequential(\n",
    "    img_encoder,\n",
    "    activation,\n",
    "    q_model,\n",
    ")\n",
    "\n",
    "print(model)"
   ]
  },
  {
   "cell_type": "markdown",
   "id": "7f227264-d52c-46bf-a41b-ebdfd85cb9ed",
   "metadata": {},
   "source": [
    "## Baseline performance evaluation\n",
    "\n",
    "We are ready to run the model now!\n",
    "\n",
    "Let's start by checking how the model performs before any training happened, i.e. with just the random initialization.\n",
    "To do that we can use a standard classification metric, the [F1 score](https://en.wikipedia.org/wiki/F-score), that combines precision and recall in a single score.\n",
    "\n",
    "As the problem is a simple binary classification task, even random guessing would result in roughly 50% accuracy, thus nonzero performance shouldn't surprise you and may vary depending on the random initialization."
   ]
  },
  {
   "cell_type": "code",
   "execution_count": 7,
   "id": "bc298c92-88fd-44b4-91ef-efe6ebbae0f6",
   "metadata": {},
   "outputs": [
    {
     "name": "stdout",
     "output_type": "stream",
     "text": [
      "Untrained F1 score: 0.14035087719298245\n",
      "\n",
      "Prediction: 0.0\n",
      "Image:\n"
     ]
    },
    {
     "data": {
      "image/jpeg": "[encoded data removed]",
      "image/png": "[encoded data removed]",
      "text/plain": [
       "<PIL.Image.Image image mode=L size=28x28>"
      ]
     },
     "metadata": {},
     "output_type": "display_data"
    },
    {
     "name": "stdout",
     "output_type": "stream",
     "text": [
      "Prediction: 0.0\n",
      "Image:\n"
     ]
    },
    {
     "data": {
      "image/jpeg": "[encoded data removed]",
      "image/png": "[encoded data removed]",
      "text/plain": [
       "<PIL.Image.Image image mode=L size=28x28>"
      ]
     },
     "metadata": {},
     "output_type": "display_data"
    },
    {
     "name": "stdout",
     "output_type": "stream",
     "text": [
      "Prediction: 0.0\n",
      "Image:\n"
     ]
    },
    {
     "data": {
      "image/jpeg": "[encoded data removed]",
      "image/png": "[encoded data removed]",
      "text/plain": [
       "<PIL.Image.Image image mode=L size=28x28>"
      ]
     },
     "metadata": {},
     "output_type": "display_data"
    },
    {
     "name": "stdout",
     "output_type": "stream",
     "text": [
      "Prediction: 0.0\n",
      "Image:\n"
     ]
    },
    {
     "data": {
      "image/jpeg": "[encoded data removed]",
      "image/png": "[encoded data removed]",
      "text/plain": [
       "<PIL.Image.Image image mode=L size=28x28>"
      ]
     },
     "metadata": {},
     "output_type": "display_data"
    },
    {
     "name": "stdout",
     "output_type": "stream",
     "text": [
      "Prediction: 0.0\n",
      "Image:\n"
     ]
    },
    {
     "data": {
      "image/jpeg": "[encoded data removed]",
      "image/png": "[encoded data removed]",
      "text/plain": [
       "<PIL.Image.Image image mode=L size=28x28>"
      ]
     },
     "metadata": {},
     "output_type": "display_data"
    }
   ],
   "source": [
    "# to evaluate the performance of the model we can use the\n",
    "# standard binary F1 score\n",
    "from torcheval.metrics.functional import binary_f1_score\n",
    "\n",
    "# let's check how the model does before training on the test set\n",
    "with torch.no_grad():\n",
    "    predictions = torch.as_tensor([F.sigmoid(model(x)) for x in test_data])\n",
    "    print(f\"Untrained F1 score: {binary_f1_score(predictions, test_targets)}\\n\")\n",
    "\n",
    "# we can also manually display and check some predictions and input images \n",
    "for prediction, image in zip(predictions[:5], test_images[:5]):\n",
    "    print(f\"Prediction: {prediction.round()}\\nImage:\")\n",
    "    display(image)\n"
   ]
  },
  {
   "cell_type": "markdown",
   "id": "e38cda1d-be5d-4b7a-a6fc-190760beaf85",
   "metadata": {},
   "source": [
    "## Train the model \n",
    "\n",
    "Now we can train the model on the train set as we would do normally for any other pytorch model. We use the `Adam` optimizer and train for 5 epochs, updating the parameters after each train sample. Thus we calculate $5 \\cdot 100$ losses in total and perform $500$ parameters update as well. \n",
    "\n",
    "To double check that the training is working we can plot the evolution of the loss over training. As each point of the plot consists the loss for a single sample of the train set, large variations are to be expected, but the overall trend should clearly be descending."
   ]
  },
  {
   "cell_type": "code",
   "execution_count": 8,
   "id": "b547bb43-bd97-40ee-b0f5-b765fffba02f",
   "metadata": {},
   "outputs": [
    {
     "name": "stdout",
     "output_type": "stream",
     "text": [
      "Final Loss: 0.3834336957570539\n"
     ]
    },
    {
     "data": {
      "image/png": "[encoded data removed]",
      "text/plain": [
       "<Figure size 640x480 with 1 Axes>"
      ]
     },
     "metadata": {},
     "output_type": "display_data"
    }
   ],
   "source": [
    "import matplotlib.pyplot as plt\n",
    "from torch.optim import Adam\n",
    "\n",
    "# now we can train the model as we would do\n",
    "# with any other pytorch model\n",
    "\n",
    "# let's use the torch.optim.Adam optimizer\n",
    "optimizer = Adam(model.parameters())\n",
    "# we are going to train for 5 epochs\n",
    "losses = []\n",
    "for _ in range(5):\n",
    "    # reshuffle the data before each epoch\n",
    "    permutation = torch.randperm(len(train_data))\n",
    "    for x, y in zip(train_data[permutation], train_targets[permutation]):\n",
    "        optimizer.zero_grad()\n",
    "        # get the predictions\n",
    "        out = model(x)\n",
    "        # calculate the loss, we can take the\n",
    "        # standard binary cross entropy\n",
    "        loss = F.binary_cross_entropy_with_logits(out.view(1,), y.view(1,))\n",
    "        # backpropagate\n",
    "        loss.backward()\n",
    "        # update the parameters\n",
    "        optimizer.step()\n",
    "        losses.append(loss.item())\n",
    "\n",
    "# we can plot the training loss over the epochs\n",
    "plt.plot(range(len(losses)), losses)\n",
    "plt.ylabel(\"Loss\")\n",
    "plt.xlabel(\"Iteration\")\n",
    "# for reference we calculate the average loss obtained for\n",
    "# the last 20 predictions after training\n",
    "print(f\"Final Loss: {sum(losses[-20:])/20}\")"
   ]
  },
  {
   "cell_type": "markdown",
   "id": "21034397-1744-41c2-a466-f55c70f64539",
   "metadata": {},
   "source": [
    "## Evaluate the trained model\n",
    "\n",
    "After training we can again evaluate the model on the test data through the F1 score "
   ]
  },
  {
   "cell_type": "code",
   "execution_count": 9,
   "id": "0f1c1d2a-0426-4e43-8ade-8f00f4d0b9bf",
   "metadata": {},
   "outputs": [
    {
     "name": "stdout",
     "output_type": "stream",
     "text": [
      "Trained F1 score: 0.9814814814814815\n",
      "Prediction: 1.0\n",
      "Image:\n"
     ]
    },
    {
     "data": {
      "image/jpeg": "[encoded data removed]",
      "image/png": "[encoded data removed]",
      "text/plain": [
       "<PIL.Image.Image image mode=L size=28x28>"
      ]
     },
     "metadata": {},
     "output_type": "display_data"
    },
    {
     "name": "stdout",
     "output_type": "stream",
     "text": [
      "Prediction: 0.0\n",
      "Image:\n"
     ]
    },
    {
     "data": {
      "image/jpeg": "[encoded data removed]",
      "image/png": "[encoded data removed]",
      "text/plain": [
       "<PIL.Image.Image image mode=L size=28x28>"
      ]
     },
     "metadata": {},
     "output_type": "display_data"
    },
    {
     "name": "stdout",
     "output_type": "stream",
     "text": [
      "Prediction: 0.0\n",
      "Image:\n"
     ]
    },
    {
     "data": {
      "image/jpeg": "[encoded data removed]",
      "image/png": "[encoded data removed]",
      "text/plain": [
       "<PIL.Image.Image image mode=L size=28x28>"
      ]
     },
     "metadata": {},
     "output_type": "display_data"
    },
    {
     "name": "stdout",
     "output_type": "stream",
     "text": [
      "Prediction: 1.0\n",
      "Image:\n"
     ]
    },
    {
     "data": {
      "image/jpeg": "[encoded data removed]",
      "image/png": "[encoded data removed]",
      "text/plain": [
       "<PIL.Image.Image image mode=L size=28x28>"
      ]
     },
     "metadata": {},
     "output_type": "display_data"
    },
    {
     "name": "stdout",
     "output_type": "stream",
     "text": [
      "Prediction: 1.0\n",
      "Image:\n"
     ]
    },
    {
     "data": {
      "image/jpeg": "[encoded data removed]",
      "image/png": "[encoded data removed]",
      "text/plain": [
       "<PIL.Image.Image image mode=L size=28x28>"
      ]
     },
     "metadata": {},
     "output_type": "display_data"
    }
   ],
   "source": [
    "# Finally, let's double check that the F1 score has improved\n",
    "with torch.no_grad():\n",
    "    predictions = torch.as_tensor([F.sigmoid(model(x)) for x in test_data])\n",
    "    print(f\"Trained F1 score: {binary_f1_score(predictions, test_targets)}\")\n",
    "\n",
    "# once again, manual inspection of the predictions and the input images\n",
    "# should confirm the recorded score\n",
    "for prediction, image in zip(predictions[:5], test_images[:5]):\n",
    "    print(f\"Prediction: {prediction.round()}\\nImage:\")\n",
    "    display(image)"
   ]
  }
 ],
 "metadata": {
  "kernelspec": {
   "display_name": "Python 3 (ipykernel)",
   "language": "python",
   "name": "python3"
  },
  "language_info": {
   "codemirror_mode": {
    "name": "ipython",
    "version": 3
   },
   "file_extension": ".py",
   "mimetype": "text/x-python",
   "name": "python",
   "nbconvert_exporter": "python",
   "pygments_lexer": "ipython3",
   "version": "3.12.3"
  }
 },
 "nbformat": 4,
 "nbformat_minor": 5
}
