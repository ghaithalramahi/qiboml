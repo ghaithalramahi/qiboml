{
 "cells": [
  {
   "cell_type": "code",
   "execution_count": 1,
   "id": "4c3d6df3-99a0-46f7-a054-77cd907dd6df",
   "metadata": {},
   "outputs": [
    {
     "name": "stdout",
     "output_type": "stream",
     "text": [
      "5\n",
      "torch.Size([28, 28])\n"
     ]
    },
    {
     "data": {
      "image/jpeg": "[encoded data removed]",
      "image/png": "[encoded data removed]",
      "text/plain": [
       "<PIL.Image.Image image mode=L size=28x28>"
      ]
     },
     "metadata": {},
     "output_type": "display_data"
    },
    {
     "name": "stdout",
     "output_type": "stream",
     "text": [
      "tensor(0)\n"
     ]
    },
    {
     "data": {
      "image/jpeg": "[encoded data removed]",
      "image/png": "[encoded data removed]",
      "text/plain": [
       "<PIL.Image.Image image mode=L size=28x28>"
      ]
     },
     "metadata": {},
     "output_type": "display_data"
    }
   ],
   "source": [
    "from torchvision.datasets import MNIST\n",
    "\n",
    "# get the MNIST dataset\n",
    "dataset = MNIST(\"./\", download=True)\n",
    "# each element is an image of shape 28x28\n",
    "print(dataset[0][1])\n",
    "print(dataset.data[0].shape)\n",
    "display(dataset[0][0])\n",
    "\n",
    "# we keep only the zeros and ones for binary classification\n",
    "zeros_and_ones = [i for i, d in enumerate(dataset) if d[1] in (0,1)]\n",
    "# for this small example 100 data should be enough\n",
    "data = dataset.data[zeros_and_ones][:100]\n",
    "targets = dataset.targets[zeros_and_ones][:100]\n",
    "images = [dataset[i][0] for i in zeros_and_ones][:100]\n",
    "print(targets[0])\n",
    "display(images[0])"
   ]
  },
  {
   "cell_type": "code",
   "execution_count": 2,
   "id": "f7143a5f-2066-4cbf-a7a7-375a77d457d3",
   "metadata": {},
   "outputs": [],
   "source": [
    "import torch\n",
    "import torch.nn as nn\n",
    "import torch.nn.functional as F\n",
    "\n",
    "# we can define a classical image encoder\n",
    "# composed of a combination of convolutional, pooling and linear layers\n",
    "class ImageEncoder(nn.Module):\n",
    "    def __init__(self):\n",
    "        super().__init__()\n",
    "        self.conv1 = nn.Conv2d(1, 3, 3)\n",
    "        self.pool = nn.MaxPool2d(2, 2)\n",
    "        self.fc1 = nn.Linear(3 * 13 * 13, 32)\n",
    "        self.fc3 = nn.Linear(32, 2)\n",
    "\n",
    "    def forward(self, x):\n",
    "        x = self.pool(F.relu(self.conv1(x)))\n",
    "        x = torch.flatten(x) \n",
    "        x = F.relu(self.fc1(x))\n",
    "        x = self.fc3(x)\n",
    "        return x\n",
    "\n",
    "\n",
    "img_encoder = ImageEncoder().double()\n"
   ]
  },
  {
   "cell_type": "code",
   "execution_count": 3,
   "id": "ec1a8c49-a9f6-4c59-b802-a3b6387c6e7d",
   "metadata": {},
   "outputs": [
    {
     "name": "stderr",
     "output_type": "stream",
     "text": [
      "2024-11-19 20:07:35.829624: E external/local_xla/xla/stream_executor/cuda/cuda_fft.cc:485] Unable to register cuFFT factory: Attempting to register factory for plugin cuFFT when one has already been registered\n",
      "2024-11-19 20:07:35.841509: E external/local_xla/xla/stream_executor/cuda/cuda_dnn.cc:8454] Unable to register cuDNN factory: Attempting to register factory for plugin cuDNN when one has already been registered\n",
      "2024-11-19 20:07:35.845157: E external/local_xla/xla/stream_executor/cuda/cuda_blas.cc:1452] Unable to register cuBLAS factory: Attempting to register factory for plugin cuBLAS when one has already been registered\n",
      "2024-11-19 20:07:35.855091: I tensorflow/core/platform/cpu_feature_guard.cc:210] This TensorFlow binary is optimized to use available CPU instructions in performance-critical operations.\n",
      "To enable the following instructions: AVX2 FMA, in other operations, rebuild TensorFlow with the appropriate compiler flags.\n",
      "2024-11-19 20:07:36.540988: W tensorflow/compiler/tf2tensorrt/utils/py_utils.cc:38] TF-TRT Warning: Could not find TensorRT\n",
      "[Qibo 0.2.13|INFO|2024-11-19 20:07:37]: Using pytorch backend on cuda:0\n"
     ]
    },
    {
     "name": "stdout",
     "output_type": "stream",
     "text": [
      "q0: ─RY─RZ─o─RY─RZ─o─RY─RZ─o─RY─RZ─o─RY─RZ─o─\n",
      "q1: ─RY─RZ─X─RY─RZ─X─RY─RZ─X─RY─RZ─X─RY─RZ─X─\n"
     ]
    }
   ],
   "source": [
    "import numpy as np\n",
    "from qibo import set_backend, Circuit, gates\n",
    "from qibo.symbols import Z\n",
    "from qibo.hamiltonians import SymbolicHamiltonian\n",
    "\n",
    "from qiboml.models.pytorch import QuantumModel\n",
    "from qiboml.models.encoding import PhaseEncoding\n",
    "from qiboml.models.decoding import Expectation, Probabilities\n",
    "\n",
    "# then we build the quantum model, that will\n",
    "# act as a classification layer on top of the\n",
    "# classical image encoder\n",
    "\n",
    "# let's set the qibo global backend with the one we like,\n",
    "# e.g. pytorch \n",
    "set_backend(\"pytorch\")\n",
    "\n",
    "# we prepare a quantum encoder to encode the \n",
    "# classical data in a quantum circuit\n",
    "nqubits = 2\n",
    "encoding = PhaseEncoding(nqubits=nqubits)\n",
    "\n",
    "# we construct a trainable parametrized circuit\n",
    "# that is the core of our quantum model\n",
    "circuit = Circuit(nqubits)\n",
    "for _ in range(5):\n",
    "    for q in range(nqubits):\n",
    "        circuit.add(gates.RY(q, theta=np.random.randn() * np.pi))\n",
    "        circuit.add(gates.RZ(q, theta=np.random.randn() * np.pi))\n",
    "    circuit.add(gates.CNOT(0,1))\n",
    "circuit.draw()\n",
    "\n",
    "# and finally we need a decoder to decode the quantum\n",
    "# information and extract the classical predictions,\n",
    "# for instance the expectation value calculation\n",
    "\n",
    "# for this we need to define the observable we wish to\n",
    "# measure\n",
    "observable = SymbolicHamiltonian(Z(0), nqubits=nqubits)\n",
    "# and then construct the expectation decoder\n",
    "decoding = Expectation(nqubits=nqubits, observable=observable, analytic=True)\n",
    "\n",
    "# we can then build the complete quantum model\n",
    "q_model = QuantumModel(\n",
    "    encoding,\n",
    "    circuit,\n",
    "    decoding\n",
    ")"
   ]
  },
  {
   "cell_type": "code",
   "execution_count": 4,
   "id": "74c070bc-c58a-4703-97f3-699ee78fef66",
   "metadata": {},
   "outputs": [],
   "source": [
    "# Since we are using an angular encoding, it is better to\n",
    "# make sure that the output of the img_encoder are meaningful\n",
    "# angles. To do so we can define a custom torch activation\n",
    "# that rescales everything in the interval (-pi, pi)\n",
    "\n",
    "class PiTanh(nn.Module):\n",
    "\n",
    "    def forward(self, x):\n",
    "        # we first rescale x to avoid the risk\n",
    "        # of saturating the tanh too often and, thus,\n",
    "        # producing always the same angle\n",
    "        x = x / x.max()\n",
    "        # then we just apply the tanh and rescale by pi\n",
    "        return np.pi * F.tanh(x)\n",
    "\n",
    "activation = PiTanh().double()"
   ]
  },
  {
   "cell_type": "code",
   "execution_count": 5,
   "id": "dac45461-78c3-48a0-95fc-9fafb5d14bcd",
   "metadata": {},
   "outputs": [],
   "source": [
    "# Finally, the complete hybrid classical-quantum pipeline can\n",
    "# be built by stacking the different components in a \n",
    "# torch.nn.Sequential as usual\n",
    "model = nn.Sequential(\n",
    "    img_encoder,\n",
    "    activation,\n",
    "    q_model,\n",
    ")"
   ]
  },
  {
   "cell_type": "code",
   "execution_count": 6,
   "id": "bc298c92-88fd-44b4-91ef-efe6ebbae0f6",
   "metadata": {},
   "outputs": [
    {
     "name": "stdout",
     "output_type": "stream",
     "text": [
      "tensor(0.)\n"
     ]
    }
   ],
   "source": [
    "# to evaluate the performance of the model we can use the\n",
    "# standard binary F1 score\n",
    "from torcheval.metrics.functional import binary_f1_score\n",
    "\n",
    "# let's check how the model does before training\n",
    "with torch.no_grad():\n",
    "    predictions = torch.as_tensor([F.sigmoid(model(x.double().unsqueeze(0))) for x in data])\n",
    "    print(binary_f1_score(predictions, targets))"
   ]
  },
  {
   "cell_type": "code",
   "execution_count": 7,
   "id": "b547bb43-bd97-40ee-b0f5-b765fffba02f",
   "metadata": {},
   "outputs": [
    {
     "name": "stdout",
     "output_type": "stream",
     "text": [
      "Final Loss: 0.3201002721815339\n"
     ]
    },
    {
     "data": {
      "image/png": "[encoded data removed]",
      "text/plain": [
       "<Figure size 640x480 with 1 Axes>"
      ]
     },
     "metadata": {},
     "output_type": "display_data"
    }
   ],
   "source": [
    "import matplotlib.pyplot as plt\n",
    "from torch.optim import Adam\n",
    "\n",
    "# now we can train the model as we would do\n",
    "# with any other pytorch model\n",
    "\n",
    "# let's use the torch.optim.Adam optimizer\n",
    "optimizer = Adam(model.parameters())\n",
    "# we are going to train for 5 epochs\n",
    "losses = []\n",
    "for _ in range(5):\n",
    "    # reshuffle the data before each epoch\n",
    "    permutation = torch.randperm(len(data))\n",
    "    for x, y in zip(data[permutation], targets[permutation]):\n",
    "        optimizer.zero_grad()\n",
    "        # get the predictions\n",
    "        out = model(x.double().unsqueeze(0))\n",
    "        # calculate the loss, we can take the\n",
    "        # standard binary cross entropy\n",
    "        loss = F.binary_cross_entropy_with_logits(out.view(1,), y.double().view(1,))\n",
    "        # backpropagate\n",
    "        loss.backward()\n",
    "        # update the parameters\n",
    "        optimizer.step()\n",
    "        losses.append(loss.item())\n",
    "\n",
    "# we can plot the training loss over the epochs\n",
    "plt.plot(range(len(losses)), losses)\n",
    "# for reference we calculate the average loss obtained for\n",
    "# the last 20 predictions after training\n",
    "print(f\"Final Loss: {sum(losses[-20:])/20}\")"
   ]
  },
  {
   "cell_type": "code",
   "execution_count": 8,
   "id": "0f1c1d2a-0426-4e43-8ade-8f00f4d0b9bf",
   "metadata": {},
   "outputs": [
    {
     "name": "stdout",
     "output_type": "stream",
     "text": [
      "tensor(1.)\n"
     ]
    }
   ],
   "source": [
    "# Finally, let's double check that the F1 score has improved\n",
    "with torch.no_grad():\n",
    "    predictions = torch.as_tensor([F.sigmoid(model(x.double().unsqueeze(0))) for x in data])\n",
    "    print(binary_f1_score(predictions, targets))"
   ]
  },
  {
   "cell_type": "code",
   "execution_count": null,
   "id": "e68ab0b6-1a42-4c36-84d1-c1bfd439a24b",
   "metadata": {},
   "outputs": [],
   "source": []
  }
 ],
 "metadata": {
  "kernelspec": {
   "display_name": "Python 3 (ipykernel)",
   "language": "python",
   "name": "python3"
  },
  "language_info": {
   "codemirror_mode": {
    "name": "ipython",
    "version": 3
   },
   "file_extension": ".py",
   "mimetype": "text/x-python",
   "name": "python",
   "nbconvert_exporter": "python",
   "pygments_lexer": "ipython3",
   "version": "3.12.3"
  }
 },
 "nbformat": 4,
 "nbformat_minor": 5
}
