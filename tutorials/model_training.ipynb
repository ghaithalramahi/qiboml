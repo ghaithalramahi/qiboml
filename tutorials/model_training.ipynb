{
 "cells": [
  {
   "cell_type": "code",
   "execution_count": 223,
   "id": "d87dc7df-725c-43fb-90a7-6c6beb597cc4",
   "metadata": {},
   "outputs": [],
   "source": [
    "import numpy as np\n",
    "import matplotlib.pyplot as plt\n",
    "import torch\n",
    "import tqdm\n",
    "\n",
    "# various backends from qibo and providers\n",
    "from qibo.backends import NumpyBackend, PyTorchBackend\n",
    "from qibojit.backends import NumbaBackend\n",
    "from qiboml.backends import TensorflowBackend\n",
    "\n",
    "# qibo objects\n",
    "import qibo\n",
    "from qibo import hamiltonians\n",
    "\n",
    "# qiboml models, operations and frontends constructors\n",
    "from qiboml.models import encoding, ansatze, decoding\n",
    "from qiboml.operations.differentiation import PSR\n",
    "import qiboml.models.pytorch as pytorch_frontend"
   ]
  },
  {
   "cell_type": "code",
   "execution_count": 224,
   "id": "c24e27f6-af5f-47c7-bee8-d241a6e3fb97",
   "metadata": {},
   "outputs": [
    {
     "data": {
      "text/plain": [
       "<module 'qiboml.models.encoding' from '/home/matteo/Documents/PhD/qiboml/src/qiboml/models/encoding.py'>"
      ]
     },
     "execution_count": 224,
     "metadata": {},
     "output_type": "execute_result"
    }
   ],
   "source": [
    "from importlib import reload\n",
    "reload(encoding)"
   ]
  },
  {
   "cell_type": "code",
   "execution_count": 401,
   "id": "3bc0c85c-5672-484c-882c-492b06f7be2c",
   "metadata": {},
   "outputs": [],
   "source": [
    "import numpy as np\n",
    "\n",
    "def generate_data(n, radius=0.3, center=(0.5, 0.5)):\n",
    "    \"\"\"Generate data in-out a circle.\"\"\"\n",
    "    data = np.random.rand(n, 2)\n",
    "    # Calculate distances from each point to the circle center\n",
    "    distances = np.linalg.norm(data - np.array(center), axis=1)\n",
    "    # Label as -1 if inside the circle, +1 if outside\n",
    "    labels = [-1 if dist <= radius else +1 for dist in distances]\n",
    "    return np.array(data), np.array(labels)\n",
    "\n",
    "\n",
    "def train_model(model, data, labels, epochs, nmessage=1):\n",
    "    \"\"\"Train model using Binary Cross Entropy loss without sigmoid activation,\n",
    "       classifying outputs based on positive and negative values.\"\"\"\n",
    "    \n",
    "    optimizer = torch.optim.Adam(model.parameters(), lr=0.05)\n",
    "    loss_f = torch.nn.BCEWithLogitsLoss()  # Use BCEWithLogitsLoss for raw model outputs\n",
    "    accuracies = []\n",
    "\n",
    "    for ep in range(epochs):\n",
    "        avg_loss = 0.0\n",
    "        correct_predictions = 0\n",
    "        total_predictions = 0\n",
    "\n",
    "        for x, y in zip(data, labels):\n",
    "            optimizer.zero_grad()\n",
    "            prediction = model(x)  # Get raw model outputs\n",
    "\n",
    "            # Convert labels from {-1, 1} to {0, 1}\n",
    "            binary_labels = (y + 1) / 2  # Convert -1 to 0, +1 to 1\n",
    "\n",
    "            # Calculate loss directly from model outputs\n",
    "            loss = loss_f(prediction.view(-1), binary_labels.view(-1))  # BCE with logits expects raw outputs\n",
    "            \n",
    "            # Perform backward pass and optimization step\n",
    "            loss.backward()\n",
    "            optimizer.step()\n",
    "\n",
    "            avg_loss += loss.item()  # Accumulate loss\n",
    "\n",
    "            # Convert predictions to binary classification: +1 if >= 0, -1 if < 0\n",
    "            preds = torch.where(prediction >= 0, torch.tensor(1.0), torch.tensor(-1.0))\n",
    "            correct_predictions += (preds.view(-1) == y.view(-1)).sum().item()\n",
    "            total_predictions += preds.size(0)  # Update total predictions based on batch size\n",
    "\n",
    "        avg_loss /= len(data)  # Calculate average loss\n",
    "        accuracy = correct_predictions / total_predictions if total_predictions > 0 else 0\n",
    "        accuracies.append(accuracy)\n",
    "\n",
    "        if (ep + 1) % nmessage == 0:\n",
    "            print(f\"Epoch {ep + 1}: avg loss: {avg_loss:.4f}, accuracy: {accuracy:.4f}\")\n"
   ]
  },
  {
   "cell_type": "code",
   "execution_count": 404,
   "id": "94c2aebc-7a4f-42db-8e56-54bede994da4",
   "metadata": {},
   "outputs": [],
   "source": [
    "data, labels = generate_data(250)"
   ]
  },
  {
   "cell_type": "code",
   "execution_count": 405,
   "id": "34cd8312-794d-4f0c-9b3a-7806b6da2a76",
   "metadata": {},
   "outputs": [
    {
     "data": {
      "text/plain": [
       "<matplotlib.collections.PathCollection at 0x7f3fa3508610>"
      ]
     },
     "execution_count": 405,
     "metadata": {},
     "output_type": "execute_result"
    },
    {
     "data": {
      "image/png": "[encoded data removed]",
      "text/plain": [
       "<Figure size 500x400 with 1 Axes>"
      ]
     },
     "metadata": {},
     "output_type": "display_data"
    }
   ],
   "source": [
    "plt.figure(figsize=(5,4))\n",
    "plt.scatter(data[labels == -1].T[0], data[labels == -1].T[1], color=\"red\", alpha=0.6)\n",
    "plt.scatter(data[labels == +1].T[0], data[labels == +1].T[1], color=\"blue\", alpha=0.6)"
   ]
  },
  {
   "cell_type": "code",
   "execution_count": 406,
   "id": "3b5ddbb6-971c-49d4-87b4-7f8fb61dd831",
   "metadata": {},
   "outputs": [],
   "source": [
    "data = torch.tensor(data, dtype=torch.float32)\n",
    "labels = torch.tensor(labels, dtype=torch.float32)"
   ]
  },
  {
   "cell_type": "code",
   "execution_count": 415,
   "id": "0a1cdd92-27d6-47dd-b943-31fc6867abc5",
   "metadata": {},
   "outputs": [
    {
     "name": "stderr",
     "output_type": "stream",
     "text": [
      "[Qibo 0.2.13|INFO|2024-10-28 18:24:02]: Using pytorch backend on cpu\n"
     ]
    }
   ],
   "source": [
    "# This is quite ambiguous\n",
    "qibo.set_backend(\"pytorch\")\n",
    "backend = NumpyBackend()\n",
    "frontend = pytorch_frontend"
   ]
  },
  {
   "cell_type": "code",
   "execution_count": 416,
   "id": "67ac9ee6-629a-42a3-88a0-a16f228656e0",
   "metadata": {},
   "outputs": [],
   "source": [
    "np.random.seed(42)"
   ]
  },
  {
   "cell_type": "code",
   "execution_count": 424,
   "id": "31472918-0ae2-422b-a752-548e2fb47241",
   "metadata": {},
   "outputs": [],
   "source": [
    "ndim = 2\n",
    "nqubits = 2\n",
    "nshots = None"
   ]
  },
  {
   "cell_type": "code",
   "execution_count": 425,
   "id": "e7008958-55a2-49fd-9295-75a8fa455b64",
   "metadata": {},
   "outputs": [],
   "source": [
    "obs = hamiltonians.Z(nqubits=nqubits)"
   ]
  },
  {
   "cell_type": "code",
   "execution_count": 426,
   "id": "ed1c000d-d458-43ca-a74f-c5655f0bb859",
   "metadata": {},
   "outputs": [],
   "source": [
    "encoding_layer = encoding.PhaseEncoding(nqubits=nqubits, qubits=[0,1])\n",
    "training_layer = ansatze.ReuploadingCircuit(nqubits=nqubits, qubits=[0,1], nlayers=3) \n",
    "decoding_layer = decoding.Expectation(\n",
    "    nqubits=nqubits,\n",
    "    qubits=[0,1],\n",
    "    backend=backend,\n",
    "    observable=obs,\n",
    "    nshots=None,\n",
    ")"
   ]
  },
  {
   "cell_type": "code",
   "execution_count": 427,
   "id": "48828599-9662-46af-812c-f6bb20fdaeda",
   "metadata": {},
   "outputs": [
    {
     "name": "stdout",
     "output_type": "stream",
     "text": [
      "q0: ─RZ─\n",
      "q1: ─RZ─\n"
     ]
    }
   ],
   "source": [
    "encoding_layer.circuit.draw()"
   ]
  },
  {
   "cell_type": "code",
   "execution_count": 428,
   "id": "fec125ff-6727-4d8e-950e-cc3c9fd19c1c",
   "metadata": {},
   "outputs": [],
   "source": [
    "q_model = frontend.QuantumModel(\n",
    "    encoding=encoding_layer, \n",
    "    circuit=training_layer, \n",
    "    decoding=decoding_layer,\n",
    "    differentiation_rule=PSR(),\n",
    ")"
   ]
  },
  {
   "cell_type": "code",
   "execution_count": 430,
   "id": "47e9e5a9-1845-46bd-a749-4c1c55099ede",
   "metadata": {},
   "outputs": [
    {
     "name": "stdout",
     "output_type": "stream",
     "text": [
      "Epoch 1: avg loss: 0.6183, accuracy: 0.6960\n",
      "Epoch 2: avg loss: 0.6112, accuracy: 0.7160\n",
      "Epoch 3: avg loss: 0.6067, accuracy: 0.7160\n",
      "Epoch 4: avg loss: 0.6062, accuracy: 0.7160\n",
      "Epoch 5: avg loss: 0.6158, accuracy: 0.7160\n"
     ]
    }
   ],
   "source": [
    "losses = train_model(model=q_model, data=data, labels=labels, epochs=5, nmessage=1)"
   ]
  },
  {
   "cell_type": "code",
   "execution_count": null,
   "id": "2d5d0c4d-545c-4549-b304-377d8e41ae10",
   "metadata": {},
   "outputs": [],
   "source": []
  }
 ],
 "metadata": {
  "kernelspec": {
   "display_name": "Python 3 (ipykernel)",
   "language": "python",
   "name": "python3"
  },
  "language_info": {
   "codemirror_mode": {
    "name": "ipython",
    "version": 3
   },
   "file_extension": ".py",
   "mimetype": "text/x-python",
   "name": "python",
   "nbconvert_exporter": "python",
   "pygments_lexer": "ipython3",
   "version": "3.10.0"
  }
 },
 "nbformat": 4,
 "nbformat_minor": 5
}
