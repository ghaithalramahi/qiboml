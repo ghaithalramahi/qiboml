{
 "cells": [
  {
   "cell_type": "markdown",
   "id": "594e8add-362c-40a7-bb46-2d468529d9e9",
   "metadata": {},
   "source": [
    "## Custom automatic differentiation\n",
    "\n",
    "In `Qiboml` we inherit the `backend` mechanism introduced in `Qibo`, extending it to the possibility of executing our quantum circuits on a specific engine indipendently of the choice of the high-level interface. \n",
    "\n",
    "This means you can decide to work with TensorFlow, or Pytorch, or others, depending on your personal preference, while keeping the possibility to freely set any `Qibo` backend for the circuit's execution.\n",
    "\n",
    "Moreover, we allow free choice of the differentiation rule to be used, which can be selected among the available differentiation rules implemented in `Qiboml`.\n",
    "\n",
    "A schematic representation of the pipeline follows, where we use as an example the custom differentiation rule of TensorFlow.\n",
    "<center><img src=\"../public/customdiff.svg\" alt=\"drawing\" width=\"1000\"/></center>"
   ]
  },
  {
   "cell_type": "markdown",
   "id": "e183c5e9-fac2-4fb0-add6-dad9deffa00e",
   "metadata": {},
   "source": [
    "In practice, one defines the problem setup by setting the `Qibo` backend as usual. Let's set `tensorflow`."
   ]
  },
  {
   "cell_type": "code",
   "execution_count": 235,
   "id": "1cbe98d3-e4c9-4f89-9a27-3918f8877e51",
   "metadata": {},
   "outputs": [
    {
     "data": {
      "text/plain": [
       "<module 'qiboml.operations.expectation' from '/home/matteo/Documents/PhD/qibogang/qiboml/src/qiboml/operations/expectation.py'>"
      ]
     },
     "execution_count": 235,
     "metadata": {},
     "output_type": "execute_result"
    }
   ],
   "source": [
    "import time\n",
    "from copy import deepcopy\n",
    "\n",
    "import numpy as np\n",
    "import tensorflow as tf\n",
    "import matplotlib.pyplot as plt\n",
    "\n",
    "from qibo import set_backend\n",
    "from qibo import Circuit, gates, hamiltonians\n",
    "\n",
    "from qiboml.operations import differentiation, expectation\n",
    "\n",
    "from importlib import reload\n",
    "reload(expectation)"
   ]
  },
  {
   "cell_type": "code",
   "execution_count": 236,
   "id": "bbbf2339-efe7-4170-9408-a7b66dff35ae",
   "metadata": {},
   "outputs": [
    {
     "name": "stderr",
     "output_type": "stream",
     "text": [
      "[Qibo 0.2.7|INFO|2024-04-22 18:17:14]: Using tensorflow backend on /device:CPU:0\n"
     ]
    }
   ],
   "source": [
    "set_backend(\"tensorflow\")"
   ]
  },
  {
   "cell_type": "markdown",
   "id": "d904f949-3546-4641-b1d4-c16c75cc8d54",
   "metadata": {},
   "source": [
    "Now let's setup a simple problem. We build a quantum circuit $U$ composed of some rotations and we compute the gradients of\n",
    "$$ \\langle 0 | U^{\\dagger} O U | 0 \\rangle, $$\n",
    "where $O$ is an observable."
   ]
  },
  {
   "cell_type": "code",
   "execution_count": 282,
   "id": "fd9264ff-150c-4be7-89ba-5b5fb37afa3b",
   "metadata": {},
   "outputs": [
    {
     "name": "stdout",
     "output_type": "stream",
     "text": [
      "q0: ─RY─RZ─RY─RZ─RY─RZ─M─\n",
      "q1: ─RY─RZ─RY─RZ─RY─RZ─M─\n",
      "q2: ─RY─RZ─RY─RZ─RY─RZ─M─\n"
     ]
    }
   ],
   "source": [
    "# circuit\n",
    "nqubits = 3\n",
    "nlayers = 3\n",
    "\n",
    "c = Circuit(nqubits)\n",
    "for _ in range(nlayers):\n",
    "    for q in range(nqubits):\n",
    "        c.add(gates.RY(q=q, theta=0))\n",
    "        c.add(gates.RZ(q=q, theta=0))\n",
    "c.add(gates.M(*range(nqubits)))\n",
    "\n",
    "print(c.draw())"
   ]
  },
  {
   "cell_type": "code",
   "execution_count": 286,
   "id": "6b4afa80-bf2d-45e9-ba46-c7996a463fba",
   "metadata": {},
   "outputs": [],
   "source": [
    "# set random parameters\n",
    "nparams = len(c.get_parameters())"
   ]
  },
  {
   "cell_type": "code",
   "execution_count": 284,
   "id": "b73dad19-cadc-45d5-8d58-85ee5f4d4247",
   "metadata": {},
   "outputs": [],
   "source": [
    "# an observable\n",
    "obs = hamiltonians.Z(nqubits=nqubits)"
   ]
  },
  {
   "cell_type": "code",
   "execution_count": 285,
   "id": "6ea9d1a0-e908-4940-9759-fa4c92053ffa",
   "metadata": {},
   "outputs": [
    {
     "name": "stdout",
     "output_type": "stream",
     "text": [
      "tf.Tensor(1.5517656244439153, shape=(), dtype=float64)\n"
     ]
    }
   ],
   "source": [
    "# compute the expectation value\n",
    "final_state = c(nshots=1000).state()\n",
    "\n",
    "print(obs.expectation(final_state))"
   ]
  },
  {
   "cell_type": "code",
   "execution_count": 274,
   "id": "0c279101-960f-4ce4-b11f-3297c24e5e72",
   "metadata": {},
   "outputs": [
    {
     "name": "stdout",
     "output_type": "stream",
     "text": [
      "tf.Tensor(1.522, shape=(), dtype=float64)\n"
     ]
    }
   ],
   "source": [
    "exp = expectation.expectation(\n",
    "    observable=obs,\n",
    "    circuit=c,\n",
    "    backend=\"numpy\",\n",
    "    differentiation_rule=differentiation.parameter_shift\n",
    ")\n",
    "\n",
    "print(exp)"
   ]
  },
  {
   "cell_type": "markdown",
   "id": "a859b18b-c18d-4297-9a08-df433480f6e2",
   "metadata": {},
   "source": [
    "To check if we are actually changing backend, we can compute a certain number of times the expectation value, and plot the time of execution of different backend engines, such that `tensorflow` or `numpy`."
   ]
  },
  {
   "cell_type": "code",
   "execution_count": 275,
   "id": "bec419f1-0fca-4d7a-beca-e09947951278",
   "metadata": {},
   "outputs": [
    {
     "name": "stdout",
     "output_type": "stream",
     "text": [
      "0/500 exec\n",
      "100/500 exec\n",
      "200/500 exec\n",
      "300/500 exec\n",
      "400/500 exec\n"
     ]
    }
   ],
   "source": [
    "np_times, tf_times = [0.], [0.]\n",
    "nexec = 500\n",
    "\n",
    "for n in range(nexec):\n",
    "    # some logging messages\n",
    "    if (n%100==0):\n",
    "        print(f\"{n}/{nexec} exec\")\n",
    "    \n",
    "    # executing on numpy backend\n",
    "    it = time.time()\n",
    "    expectation.expectation(\n",
    "        observable=obs,\n",
    "        circuit=c,\n",
    "        backend=\"numpy\",\n",
    "        differentiation_rule=differentiation.parameter_shift\n",
    "    )\n",
    "    ft = time.time()\n",
    "    np_times.append((ft-it)+np_times[-1])\n",
    "\n",
    "    # executing on tensorflow backend\n",
    "    it = time.time()\n",
    "    expectation.expectation(\n",
    "        observable=obs,\n",
    "        circuit=c,\n",
    "        backend=\"tensorflow\",\n",
    "        differentiation_rule=differentiation.parameter_shift\n",
    "    )\n",
    "    ft = time.time()\n",
    "    tf_times.append((ft-it)+tf_times[-1])"
   ]
  },
  {
   "cell_type": "code",
   "execution_count": 276,
   "id": "72af880a-092d-4531-85d8-e1809359788d",
   "metadata": {},
   "outputs": [
    {
     "data": {
      "image/png": "[encoded data removed]",
      "text/plain": [
       "<Figure size 600x450 with 1 Axes>"
      ]
     },
     "metadata": {},
     "output_type": "display_data"
    }
   ],
   "source": [
    "plt.figure(figsize=(6, 6*6/8))\n",
    "plt.plot(np_times, color=\"red\", label=\"Numpy backend\")\n",
    "plt.plot(tf_times, color=\"royalblue\", label=\"TensorFlow backend\")\n",
    "plt.legend()\n",
    "plt.xlabel(\"# executions\")\n",
    "plt.ylabel(\"Time [s]\")\n",
    "plt.grid(True)\n",
    "plt.show()"
   ]
  },
  {
   "cell_type": "markdown",
   "id": "3e96cb14-5896-4b60-bd90-138906b2c121",
   "metadata": {},
   "source": [
    "This behaviour is expected, since TensorFlow is typically slower than the Numpy backend in executing circuits. It is clear, here, that setting the backend engine to `numpy`, even setting the `frontend` as `tensorflow`, is more convenient."
   ]
  },
  {
   "cell_type": "markdown",
   "id": "23608465-be0b-4a78-8733-cfad381b1cf7",
   "metadata": {},
   "source": [
    "### Optimization example\n",
    "\n",
    "In the following, we optimize the parameters of the parametric circuit to minimize a target cost function, which is the expectation value of a target hamiltonian. We will repeat this twice, using the `parameter_shift_rule` as differentiation method and both `numpy` and `tensorflow` as backends."
   ]
  },
  {
   "cell_type": "code",
   "execution_count": 277,
   "id": "e1cc3737-f67b-4fd2-b28d-c025b58d815c",
   "metadata": {},
   "outputs": [],
   "source": [
    "def cost_function(parameters, circuit, hamiltonian, backend):\n",
    "    \"\"\"\n",
    "    Compute expectation value of ``hamiltonian`` over the final state we \n",
    "    get executing ``circuit`` using ``parameters``.\n",
    "    \"\"\""
   ]
  },
  {
   "cell_type": "code",
   "execution_count": 278,
   "id": "08cd072f-bc6b-477b-814b-574186ae3d5b",
   "metadata": {},
   "outputs": [
    {
     "data": {
      "text/plain": [
       "<module 'qiboml.operations.expectation' from '/home/matteo/Documents/PhD/qibogang/qiboml/src/qiboml/operations/expectation.py'>"
      ]
     },
     "execution_count": 278,
     "metadata": {},
     "output_type": "execute_result"
    }
   ],
   "source": [
    "reload(expectation)"
   ]
  },
  {
   "cell_type": "code",
   "execution_count": 295,
   "id": "26bd1eeb-4479-45c6-859b-21b9dca97c2c",
   "metadata": {},
   "outputs": [
    {
     "name": "stdout",
     "output_type": "stream",
     "text": [
      "Cost: 1.522 \t |\t Epoch: 0\n",
      "Cost: 1.042 \t |\t Epoch: 10\n",
      "Cost: 0.446 \t |\t Epoch: 20\n",
      "Cost: -0.106 \t |\t Epoch: 30\n",
      "Cost: -0.524 \t |\t Epoch: 40\n",
      "Cost: -1.098 \t |\t Epoch: 50\n",
      "Cost: -1.442 \t |\t Epoch: 60\n",
      "Cost: -1.84 \t |\t Epoch: 70\n",
      "Cost: -2.106 \t |\t Epoch: 80\n",
      "Cost: -2.386 \t |\t Epoch: 90\n"
     ]
    }
   ],
   "source": [
    "learning_rate = 0.01\n",
    "nepochs = 100\n",
    "\n",
    "# set random generator seed\n",
    "np.random.seed(42)\n",
    "params = tf.Variable(np.random.uniform(0, 2*np.pi, nparams))\n",
    "\n",
    "it = time.time()\n",
    "for epoch in range(nepochs):\n",
    "    with tf.GradientTape() as tape:\n",
    "        c.set_parameters(params)\n",
    "        cost = expectation.expectation(\n",
    "                observable=obs,\n",
    "                circuit=c,\n",
    "                backend=\"numpy\",\n",
    "                differentiation_rule=differentiation.parameter_shift\n",
    "            )\n",
    "    if (epoch % 10 == 0):\n",
    "        print(f\"Cost: {round(cost, 4)} \\t |\\t Epoch: {epoch}\")\n",
    "    gradients = tape.gradient(cost, params)\n",
    "    init_params = params.assign_sub(learning_rate * gradients)\n",
    "ft = time.time()\n",
    "\n",
    "numpy_time = ft - it"
   ]
  },
  {
   "cell_type": "markdown",
   "id": "5805a0fe-ade3-4d83-a2ef-41a0a61c3fcb",
   "metadata": {},
   "source": [
    "Let's now repeat the same optimization but using `tensorflow` as backend."
   ]
  },
  {
   "cell_type": "code",
   "execution_count": 297,
   "id": "25d7682a-eb38-486a-ac7b-0cfd07db9b27",
   "metadata": {},
   "outputs": [
    {
     "name": "stdout",
     "output_type": "stream",
     "text": [
      "Cost: 1.556 \t |\t Epoch: 0\n",
      "Cost: 1.06 \t |\t Epoch: 10\n",
      "Cost: 0.602 \t |\t Epoch: 20\n",
      "Cost: -0.104 \t |\t Epoch: 30\n",
      "Cost: -0.584 \t |\t Epoch: 40\n",
      "Cost: -1.106 \t |\t Epoch: 50\n",
      "Cost: -1.588 \t |\t Epoch: 60\n",
      "Cost: -1.916 \t |\t Epoch: 70\n",
      "Cost: -2.142 \t |\t Epoch: 80\n",
      "Cost: -2.302 \t |\t Epoch: 90\n"
     ]
    }
   ],
   "source": [
    "# set random generator seed\n",
    "np.random.seed(42)\n",
    "params = tf.Variable(np.random.uniform(0, 2*np.pi, nparams))\n",
    "\n",
    "it = time.time()\n",
    "for epoch in range(nepochs):\n",
    "    with tf.GradientTape() as tape:\n",
    "        c.set_parameters(params)\n",
    "        cost = expectation.expectation(\n",
    "                observable=obs,\n",
    "                circuit=c,\n",
    "                backend=\"tensorflow\",\n",
    "                differentiation_rule=differentiation.parameter_shift\n",
    "            )\n",
    "    if (epoch % 10 == 0):\n",
    "        print(f\"Cost: {round(cost, 4)} \\t |\\t Epoch: {epoch}\")\n",
    "    gradients = tape.gradient(cost, params)\n",
    "    init_params = params.assign_sub(learning_rate * gradients)\n",
    "ft = time.time()\n",
    "\n",
    "tensorflow_time = ft - it"
   ]
  },
  {
   "cell_type": "code",
   "execution_count": 298,
   "id": "2a905fa8-7b67-444c-b953-5a7ac3703b75",
   "metadata": {},
   "outputs": [
    {
     "name": "stdout",
     "output_type": "stream",
     "text": [
      "Optimization time with tf: 70.71000385284424\n",
      "Optimization time with np: 13.57430362701416\n"
     ]
    }
   ],
   "source": [
    "print(f\"Optimization time with tf: {tensorflow_time}\")\n",
    "print(f\"Optimization time with np: {numpy_time}\")"
   ]
  }
 ],
 "metadata": {
  "kernelspec": {
   "display_name": "Python 3 (ipykernel)",
   "language": "python",
   "name": "python3"
  },
  "language_info": {
   "codemirror_mode": {
    "name": "ipython",
    "version": 3
   },
   "file_extension": ".py",
   "mimetype": "text/x-python",
   "name": "python",
   "nbconvert_exporter": "python",
   "pygments_lexer": "ipython3",
   "version": "3.10.0"
  }
 },
 "nbformat": 4,
 "nbformat_minor": 5
}
